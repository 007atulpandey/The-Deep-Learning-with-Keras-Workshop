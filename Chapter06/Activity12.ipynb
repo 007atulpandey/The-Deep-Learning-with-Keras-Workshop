{
 "cells": [
  {
   "cell_type": "markdown",
   "metadata": {},
   "source": [
    "# Activity 12 "
   ]
  },
  {
   "cell_type": "code",
   "execution_count": 1,
   "metadata": {},
   "outputs": [],
   "source": [
    "# Import the libraries\n",
    "import numpy as np\n",
    "import pandas as pd\n",
    "\n",
    "# Load the Data\n",
    "X = pd.read_csv(\"data/aps_failure_training_feats.csv\")\n",
    "y = pd.read_csv(\"data/aps_failure_training_target.csv\")"
   ]
  },
  {
   "cell_type": "code",
   "execution_count": 2,
   "metadata": {},
   "outputs": [],
   "source": [
    "# Split the data into training and testing sets\n",
    "from sklearn.model_selection import train_test_split\n",
    "X_train, X_test, y_train, y_test= train_test_split(X, y, test_size=0.20, random_state=42)"
   ]
  },
  {
   "cell_type": "code",
   "execution_count": 3,
   "metadata": {},
   "outputs": [],
   "source": [
    "# Initialize StandardScaler\n",
    "from sklearn.preprocessing import StandardScaler\n",
    "sc=StandardScaler()\n",
    "\n",
    "# Transform the training data\n",
    "X_train = sc.fit_transform(X_train)\n",
    "X_train = pd.DataFrame(X_train,columns=X_test.columns)\n",
    "\n",
    "# Transform the testing data\n",
    "X_test=sc.transform(X_test)\n",
    "X_test=pd.DataFrame(X_test,columns=X_train.columns)"
   ]
  },
  {
   "cell_type": "code",
   "execution_count": 4,
   "metadata": {},
   "outputs": [
    {
     "name": "stderr",
     "output_type": "stream",
     "text": [
      "Using TensorFlow backend.\n"
     ]
    }
   ],
   "source": [
    "# Import the relevant Keras libraries\n",
    "from keras.models import Sequential\n",
    "from keras.layers import Dense\n",
    "from keras.layers import Dropout\n",
    "\n",
    "model = Sequential()\n",
    "\n",
    "# Add the hidden dense layers and with dropout Layer\n",
    "model.add(Dense(units=64, activation='relu', kernel_initializer='uniform', input_dim=X_train.shape[1]))\n",
    "model.add(Dropout(rate=0.5))\n",
    "model.add(Dense(units=32, activation='relu', kernel_initializer='uniform'))\n",
    "model.add(Dropout(rate=0.4))\n",
    "model.add(Dense(units=16, activation='relu', kernel_initializer='uniform'))\n",
    "model.add(Dropout(rate=0.3))\n",
    "model.add(Dense(units=8, activation='relu', kernel_initializer='uniform'))\n",
    "model.add(Dropout(rate=0.2))\n",
    "model.add(Dense(units=4, activation='relu', kernel_initializer='uniform'))\n",
    "model.add(Dropout(rate=0.1))\n",
    "\n",
    "# Add Output Dense Layer\n",
    "model.add(Dense(units=1, activation='sigmoid', kernel_initializer='uniform'))\n",
    "\n",
    "# Compile the Model\n",
    "model.compile(optimizer='adam', loss='binary_crossentropy', metrics=['accuracy'])"
   ]
  },
  {
   "cell_type": "code",
   "execution_count": 5,
   "metadata": {},
   "outputs": [
    {
     "name": "stdout",
     "output_type": "stream",
     "text": [
      "Train on 38400 samples, validate on 9600 samples\n",
      "Epoch 1/100\n",
      "38400/38400 [==============================] - 5s 122us/step - loss: 0.0795 - accuracy: 0.9834 - val_loss: 0.0350 - val_accuracy: 0.9842\n",
      "Epoch 2/100\n",
      "38400/38400 [==============================] - 4s 108us/step - loss: 0.0409 - accuracy: 0.9834 - val_loss: 0.0340 - val_accuracy: 0.9842\n",
      "Epoch 3/100\n",
      "38400/38400 [==============================] - 4s 95us/step - loss: 0.0355 - accuracy: 0.9834 - val_loss: 0.0333 - val_accuracy: 0.9842\n",
      "Epoch 4/100\n",
      "38400/38400 [==============================] - 4s 102us/step - loss: 0.0366 - accuracy: 0.9854 - val_loss: 0.0302 - val_accuracy: 0.9842\n",
      "Epoch 5/100\n",
      "38400/38400 [==============================] - 4s 93us/step - loss: 0.0334 - accuracy: 0.9887 - val_loss: 0.0303 - val_accuracy: 0.9902\n",
      "Epoch 6/100\n",
      "38400/38400 [==============================] - 3s 90us/step - loss: 0.0329 - accuracy: 0.9901 - val_loss: 0.0285 - val_accuracy: 0.9917\n",
      "Epoch 7/100\n",
      "38400/38400 [==============================] - 3s 87us/step - loss: 0.0319 - accuracy: 0.9904 - val_loss: 0.0289 - val_accuracy: 0.9905\n",
      "Epoch 8/100\n",
      "38400/38400 [==============================] - 4s 96us/step - loss: 0.0328 - accuracy: 0.9914 - val_loss: 0.0324 - val_accuracy: 0.9919\n",
      "Epoch 9/100\n",
      "38400/38400 [==============================] - 3s 90us/step - loss: 0.0318 - accuracy: 0.9914 - val_loss: 0.0296 - val_accuracy: 0.9924\n",
      "Epoch 10/100\n",
      "38400/38400 [==============================] - 3s 91us/step - loss: 0.0303 - accuracy: 0.9913 - val_loss: 0.0299 - val_accuracy: 0.9921\n",
      "Epoch 11/100\n",
      "38400/38400 [==============================] - 4s 100us/step - loss: 0.0299 - accuracy: 0.9913 - val_loss: 0.0332 - val_accuracy: 0.9923\n",
      "Epoch 12/100\n",
      "38400/38400 [==============================] - 4s 106us/step - loss: 0.0294 - accuracy: 0.9910 - val_loss: 0.0315 - val_accuracy: 0.9916\n",
      "Epoch 13/100\n",
      "38400/38400 [==============================] - 4s 93us/step - loss: 0.0295 - accuracy: 0.9913 - val_loss: 0.0286 - val_accuracy: 0.9919\n",
      "Epoch 14/100\n",
      "38400/38400 [==============================] - 3s 89us/step - loss: 0.0290 - accuracy: 0.9906 - val_loss: 0.0272 - val_accuracy: 0.9921\n",
      "Epoch 15/100\n",
      "38400/38400 [==============================] - 4s 110us/step - loss: 0.0285 - accuracy: 0.9921 - val_loss: 0.0272 - val_accuracy: 0.9909\n",
      "Epoch 16/100\n",
      "38400/38400 [==============================] - 4s 105us/step - loss: 0.0279 - accuracy: 0.9918 - val_loss: 0.0413 - val_accuracy: 0.9922\n",
      "Epoch 17/100\n",
      "38400/38400 [==============================] - 4s 96us/step - loss: 0.0284 - accuracy: 0.9915 - val_loss: 0.0304 - val_accuracy: 0.9925\n",
      "Epoch 18/100\n",
      "38400/38400 [==============================] - 4s 107us/step - loss: 0.0282 - accuracy: 0.9924 - val_loss: 0.0297 - val_accuracy: 0.9930\n",
      "Epoch 19/100\n",
      "38400/38400 [==============================] - 4s 103us/step - loss: 0.0270 - accuracy: 0.9917 - val_loss: 0.0303 - val_accuracy: 0.9931\n",
      "Epoch 20/100\n",
      "38400/38400 [==============================] - 4s 101us/step - loss: 0.0281 - accuracy: 0.9924 - val_loss: 0.0334 - val_accuracy: 0.9924\n",
      "Epoch 21/100\n",
      "38400/38400 [==============================] - 4s 109us/step - loss: 0.0277 - accuracy: 0.9927 - val_loss: 0.0304 - val_accuracy: 0.9920\n",
      "Epoch 22/100\n",
      "38400/38400 [==============================] - 4s 100us/step - loss: 0.0274 - accuracy: 0.9925 - val_loss: 0.0285 - val_accuracy: 0.9916\n",
      "Epoch 23/100\n",
      "38400/38400 [==============================] - 4s 115us/step - loss: 0.0267 - accuracy: 0.9923 - val_loss: 0.0275 - val_accuracy: 0.9921\n",
      "Epoch 24/100\n",
      "38400/38400 [==============================] - 5s 129us/step - loss: 0.0254 - accuracy: 0.9927 - val_loss: 0.0394 - val_accuracy: 0.9924\n",
      "Epoch 25/100\n",
      "38400/38400 [==============================] - 5s 127us/step - loss: 0.0261 - accuracy: 0.9923 - val_loss: 0.0299 - val_accuracy: 0.9910\n",
      "Epoch 26/100\n",
      "38400/38400 [==============================] - 4s 115us/step - loss: 0.0255 - accuracy: 0.9928 - val_loss: 0.0311 - val_accuracy: 0.9922\n",
      "Epoch 27/100\n",
      "38400/38400 [==============================] - 5s 121us/step - loss: 0.0272 - accuracy: 0.9929 - val_loss: 0.0371 - val_accuracy: 0.9926\n",
      "Epoch 28/100\n",
      "38400/38400 [==============================] - 4s 116us/step - loss: 0.0253 - accuracy: 0.9927 - val_loss: 0.0312 - val_accuracy: 0.9910\n",
      "Epoch 29/100\n",
      "38400/38400 [==============================] - 5s 124us/step - loss: 0.0260 - accuracy: 0.9928 - val_loss: 0.0402 - val_accuracy: 0.9915\n",
      "Epoch 30/100\n",
      "38400/38400 [==============================] - 4s 116us/step - loss: 0.0258 - accuracy: 0.9927 - val_loss: 0.0329 - val_accuracy: 0.9918\n",
      "Epoch 31/100\n",
      "38400/38400 [==============================] - 5s 118us/step - loss: 0.0264 - accuracy: 0.9924 - val_loss: 0.0339 - val_accuracy: 0.9915\n",
      "Epoch 32/100\n",
      "38400/38400 [==============================] - 4s 114us/step - loss: 0.0254 - accuracy: 0.9931 - val_loss: 0.0372 - val_accuracy: 0.9924\n",
      "Epoch 33/100\n",
      "38400/38400 [==============================] - 5s 123us/step - loss: 0.0256 - accuracy: 0.9933 - val_loss: 0.0319 - val_accuracy: 0.9920\n",
      "Epoch 34/100\n",
      "38400/38400 [==============================] - 5s 126us/step - loss: 0.0250 - accuracy: 0.9936 - val_loss: 0.0365 - val_accuracy: 0.9917\n",
      "Epoch 35/100\n",
      "38400/38400 [==============================] - 5s 129us/step - loss: 0.0260 - accuracy: 0.9930 - val_loss: 0.0301 - val_accuracy: 0.9927\n",
      "Epoch 36/100\n",
      "38400/38400 [==============================] - 5s 126us/step - loss: 0.0249 - accuracy: 0.9932 - val_loss: 0.0436 - val_accuracy: 0.9917\n",
      "Epoch 37/100\n",
      "38400/38400 [==============================] - 5s 119us/step - loss: 0.0236 - accuracy: 0.9934 - val_loss: 0.0329 - val_accuracy: 0.9917\n",
      "Epoch 38/100\n",
      "38400/38400 [==============================] - 5s 129us/step - loss: 0.0234 - accuracy: 0.9932 - val_loss: 0.0390 - val_accuracy: 0.9919\n",
      "Epoch 39/100\n",
      "38400/38400 [==============================] - 5s 127us/step - loss: 0.0234 - accuracy: 0.9931 - val_loss: 0.0293 - val_accuracy: 0.9917\n",
      "Epoch 40/100\n",
      "38400/38400 [==============================] - 5s 126us/step - loss: 0.0266 - accuracy: 0.9928 - val_loss: 0.0287 - val_accuracy: 0.9912\n",
      "Epoch 41/100\n",
      "38400/38400 [==============================] - 5s 124us/step - loss: 0.0245 - accuracy: 0.9939 - val_loss: 0.0388 - val_accuracy: 0.9919\n",
      "Epoch 42/100\n",
      "38400/38400 [==============================] - 5s 122us/step - loss: 0.0227 - accuracy: 0.9934 - val_loss: 0.0433 - val_accuracy: 0.9921\n",
      "Epoch 43/100\n",
      "38400/38400 [==============================] - 4s 112us/step - loss: 0.0241 - accuracy: 0.9934 - val_loss: 0.0339 - val_accuracy: 0.9915\n",
      "Epoch 44/100\n",
      "38400/38400 [==============================] - 4s 111us/step - loss: 0.0230 - accuracy: 0.9936 - val_loss: 0.0453 - val_accuracy: 0.9921\n",
      "Epoch 45/100\n",
      "38400/38400 [==============================] - 4s 113us/step - loss: 0.0245 - accuracy: 0.9936 - val_loss: 0.0371 - val_accuracy: 0.9921\n",
      "Epoch 46/100\n",
      "38400/38400 [==============================] - 5s 121us/step - loss: 0.0241 - accuracy: 0.9930 - val_loss: 0.0438 - val_accuracy: 0.9930\n",
      "Epoch 47/100\n",
      "38400/38400 [==============================] - 4s 116us/step - loss: 0.0220 - accuracy: 0.9938 - val_loss: 0.0420 - val_accuracy: 0.9910\n",
      "Epoch 48/100\n",
      "38400/38400 [==============================] - 4s 113us/step - loss: 0.0216 - accuracy: 0.9939 - val_loss: 0.0357 - val_accuracy: 0.9918\n",
      "Epoch 49/100\n",
      "38400/38400 [==============================] - 5s 122us/step - loss: 0.0216 - accuracy: 0.9940 - val_loss: 0.0328 - val_accuracy: 0.9924\n",
      "Epoch 50/100\n",
      "38400/38400 [==============================] - 5s 123us/step - loss: 0.0234 - accuracy: 0.9940 - val_loss: 0.0371 - val_accuracy: 0.9924\n",
      "Epoch 51/100\n",
      "38400/38400 [==============================] - 5s 118us/step - loss: 0.0228 - accuracy: 0.9939 - val_loss: 0.0520 - val_accuracy: 0.9921\n",
      "Epoch 52/100\n",
      "38400/38400 [==============================] - 5s 121us/step - loss: 0.0231 - accuracy: 0.9939 - val_loss: 0.0344 - val_accuracy: 0.9925\n",
      "Epoch 53/100\n",
      "38400/38400 [==============================] - 5s 134us/step - loss: 0.0222 - accuracy: 0.9942 - val_loss: 0.0419 - val_accuracy: 0.9927\n",
      "Epoch 54/100\n",
      "38400/38400 [==============================] - 5s 129us/step - loss: 0.0229 - accuracy: 0.9940 - val_loss: 0.0345 - val_accuracy: 0.9924\n",
      "Epoch 55/100\n"
     ]
    },
    {
     "name": "stdout",
     "output_type": "stream",
     "text": [
      "38400/38400 [==============================] - 5s 121us/step - loss: 0.0232 - accuracy: 0.9939 - val_loss: 0.0323 - val_accuracy: 0.9914\n",
      "Epoch 56/100\n",
      "38400/38400 [==============================] - 4s 114us/step - loss: 0.0217 - accuracy: 0.9938 - val_loss: 0.0415 - val_accuracy: 0.9924\n",
      "Epoch 57/100\n",
      "38400/38400 [==============================] - 4s 112us/step - loss: 0.0219 - accuracy: 0.9943 - val_loss: 0.0484 - val_accuracy: 0.9915\n",
      "Epoch 58/100\n",
      "38400/38400 [==============================] - 4s 117us/step - loss: 0.0238 - accuracy: 0.9936 - val_loss: 0.0468 - val_accuracy: 0.9923\n",
      "Epoch 59/100\n",
      "38400/38400 [==============================] - 5s 118us/step - loss: 0.0210 - accuracy: 0.9940 - val_loss: 0.0302 - val_accuracy: 0.9919\n",
      "Epoch 60/100\n",
      "38400/38400 [==============================] - 5s 121us/step - loss: 0.0215 - accuracy: 0.9941 - val_loss: 0.0355 - val_accuracy: 0.9915\n",
      "Epoch 61/100\n",
      "38400/38400 [==============================] - 4s 114us/step - loss: 0.0218 - accuracy: 0.9940 - val_loss: 0.0426 - val_accuracy: 0.9924\n",
      "Epoch 62/100\n",
      "38400/38400 [==============================] - 4s 114us/step - loss: 0.0212 - accuracy: 0.9943 - val_loss: 0.0456 - val_accuracy: 0.9922\n",
      "Epoch 63/100\n",
      "38400/38400 [==============================] - 4s 114us/step - loss: 0.0201 - accuracy: 0.9947 - val_loss: 0.0578 - val_accuracy: 0.9925\n",
      "Epoch 64/100\n",
      "38400/38400 [==============================] - 4s 116us/step - loss: 0.0219 - accuracy: 0.9946 - val_loss: 0.0465 - val_accuracy: 0.9919\n",
      "Epoch 65/100\n",
      "38400/38400 [==============================] - 5s 119us/step - loss: 0.0201 - accuracy: 0.9949 - val_loss: 0.0431 - val_accuracy: 0.9922\n",
      "Epoch 66/100\n",
      "38400/38400 [==============================] - 5s 123us/step - loss: 0.0215 - accuracy: 0.9941 - val_loss: 0.0510 - val_accuracy: 0.9924\n",
      "Epoch 67/100\n",
      "38400/38400 [==============================] - 4s 116us/step - loss: 0.0219 - accuracy: 0.9939 - val_loss: 0.0400 - val_accuracy: 0.9920\n",
      "Epoch 68/100\n",
      "38400/38400 [==============================] - 4s 117us/step - loss: 0.0206 - accuracy: 0.9940 - val_loss: 0.0402 - val_accuracy: 0.9919\n",
      "Epoch 69/100\n",
      "38400/38400 [==============================] - 4s 111us/step - loss: 0.0207 - accuracy: 0.9943 - val_loss: 0.0529 - val_accuracy: 0.9911\n",
      "Epoch 70/100\n",
      "38400/38400 [==============================] - 5s 124us/step - loss: 0.0207 - accuracy: 0.9939 - val_loss: 0.0426 - val_accuracy: 0.9922\n",
      "Epoch 71/100\n",
      "38400/38400 [==============================] - 4s 117us/step - loss: 0.0215 - accuracy: 0.9941 - val_loss: 0.0469 - val_accuracy: 0.9925\n",
      "Epoch 72/100\n",
      "38400/38400 [==============================] - 5s 124us/step - loss: 0.0223 - accuracy: 0.9943 - val_loss: 0.0466 - val_accuracy: 0.9932\n",
      "Epoch 73/100\n",
      "38400/38400 [==============================] - 4s 111us/step - loss: 0.0202 - accuracy: 0.9946 - val_loss: 0.0526 - val_accuracy: 0.9922\n",
      "Epoch 74/100\n",
      "38400/38400 [==============================] - 4s 106us/step - loss: 0.0212 - accuracy: 0.9942 - val_loss: 0.0468 - val_accuracy: 0.9922\n",
      "Epoch 75/100\n",
      "38400/38400 [==============================] - 4s 107us/step - loss: 0.0207 - accuracy: 0.9945 - val_loss: 0.0635 - val_accuracy: 0.9924\n",
      "Epoch 76/100\n",
      "38400/38400 [==============================] - 4s 107us/step - loss: 0.0205 - accuracy: 0.9948 - val_loss: 0.0538 - val_accuracy: 0.9921\n",
      "Epoch 77/100\n",
      "38400/38400 [==============================] - 4s 107us/step - loss: 0.0186 - accuracy: 0.9956 - val_loss: 0.0565 - val_accuracy: 0.9927\n",
      "Epoch 78/100\n",
      "38400/38400 [==============================] - 4s 107us/step - loss: 0.0194 - accuracy: 0.9949 - val_loss: 0.0541 - val_accuracy: 0.9923\n",
      "Epoch 79/100\n",
      "38400/38400 [==============================] - 4s 107us/step - loss: 0.0194 - accuracy: 0.9943 - val_loss: 0.0541 - val_accuracy: 0.9922\n",
      "Epoch 80/100\n",
      "38400/38400 [==============================] - 4s 108us/step - loss: 0.0204 - accuracy: 0.9945 - val_loss: 0.0512 - val_accuracy: 0.9918\n",
      "Epoch 81/100\n",
      "38400/38400 [==============================] - 4s 106us/step - loss: 0.0202 - accuracy: 0.9945 - val_loss: 0.0526 - val_accuracy: 0.9922\n",
      "Epoch 82/100\n",
      "38400/38400 [==============================] - 4s 110us/step - loss: 0.0192 - accuracy: 0.9944 - val_loss: 0.0654 - val_accuracy: 0.9921\n",
      "Epoch 83/100\n",
      "38400/38400 [==============================] - 4s 107us/step - loss: 0.0190 - accuracy: 0.9949 - val_loss: 0.0344 - val_accuracy: 0.9910\n",
      "Epoch 84/100\n",
      "38400/38400 [==============================] - 4s 111us/step - loss: 0.0183 - accuracy: 0.9949 - val_loss: 0.0674 - val_accuracy: 0.9923\n",
      "Epoch 85/100\n",
      "38400/38400 [==============================] - 4s 109us/step - loss: 0.0174 - accuracy: 0.9952 - val_loss: 0.0516 - val_accuracy: 0.9921\n",
      "Epoch 86/100\n",
      "38400/38400 [==============================] - 4s 108us/step - loss: 0.0191 - accuracy: 0.9949 - val_loss: 0.0744 - val_accuracy: 0.9929\n",
      "Epoch 87/100\n",
      "38400/38400 [==============================] - 4s 107us/step - loss: 0.0214 - accuracy: 0.9942 - val_loss: 0.0367 - val_accuracy: 0.9909\n",
      "Epoch 88/100\n",
      "38400/38400 [==============================] - 4s 106us/step - loss: 0.0196 - accuracy: 0.9951 - val_loss: 0.0572 - val_accuracy: 0.9922\n",
      "Epoch 89/100\n",
      "38400/38400 [==============================] - 4s 108us/step - loss: 0.0168 - accuracy: 0.9952 - val_loss: 0.0610 - val_accuracy: 0.9920\n",
      "Epoch 90/100\n",
      "38400/38400 [==============================] - 4s 108us/step - loss: 0.0202 - accuracy: 0.9946 - val_loss: 0.0525 - val_accuracy: 0.9921\n",
      "Epoch 91/100\n",
      "38400/38400 [==============================] - 4s 107us/step - loss: 0.0212 - accuracy: 0.9949 - val_loss: 0.0489 - val_accuracy: 0.9924\n",
      "Epoch 92/100\n",
      "38400/38400 [==============================] - 4s 107us/step - loss: 0.0189 - accuracy: 0.9949 - val_loss: 0.0614 - val_accuracy: 0.9924\n",
      "Epoch 93/100\n",
      "38400/38400 [==============================] - 4s 107us/step - loss: 0.0208 - accuracy: 0.9947 - val_loss: 0.0523 - val_accuracy: 0.9925\n",
      "Epoch 94/100\n",
      "38400/38400 [==============================] - 4s 107us/step - loss: 0.0200 - accuracy: 0.9951 - val_loss: 0.0574 - val_accuracy: 0.9922\n",
      "Epoch 95/100\n",
      "38400/38400 [==============================] - 4s 109us/step - loss: 0.0196 - accuracy: 0.9955 - val_loss: 0.0504 - val_accuracy: 0.9924\n",
      "Epoch 96/100\n",
      "38400/38400 [==============================] - 4s 107us/step - loss: 0.0187 - accuracy: 0.9952 - val_loss: 0.0516 - val_accuracy: 0.9928\n",
      "Epoch 97/100\n",
      "38400/38400 [==============================] - 4s 107us/step - loss: 0.0190 - accuracy: 0.9955 - val_loss: 0.0650 - val_accuracy: 0.9924\n",
      "Epoch 98/100\n",
      "38400/38400 [==============================] - 4s 108us/step - loss: 0.0191 - accuracy: 0.9952 - val_loss: 0.0825 - val_accuracy: 0.9927\n",
      "Epoch 99/100\n",
      "38400/38400 [==============================] - 4s 109us/step - loss: 0.0185 - accuracy: 0.9953 - val_loss: 0.0507 - val_accuracy: 0.9927\n",
      "Epoch 100/100\n",
      "38400/38400 [==============================] - 4s 109us/step - loss: 0.0195 - accuracy: 0.9949 - val_loss: 0.0481 - val_accuracy: 0.9923\n"
     ]
    },
    {
     "data": {
      "text/plain": [
       "<keras.callbacks.callbacks.History at 0x14c893198>"
      ]
     },
     "execution_count": 5,
     "metadata": {},
     "output_type": "execute_result"
    }
   ],
   "source": [
    "# Fit the Model\n",
    "model.fit(X_train, y_train, epochs=100, batch_size=20, verbose=1, validation_split=0.2)"
   ]
  },
  {
   "cell_type": "code",
   "execution_count": 19,
   "metadata": {},
   "outputs": [],
   "source": [
    "y_pred = model.predict(X_test)\n",
    "y_pred_prob = model.predict_proba(X_test)"
   ]
  },
  {
   "cell_type": "markdown",
   "metadata": {},
   "source": [
    "## Confusion Matrix & Derived Metrics"
   ]
  },
  {
   "cell_type": "code",
   "execution_count": 20,
   "metadata": {},
   "outputs": [
    {
     "name": "stdout",
     "output_type": "stream",
     "text": [
      "[[11730    58]\n",
      " [   69   143]]\n"
     ]
    }
   ],
   "source": [
    "from sklearn.metrics import confusion_matrix\n",
    "y_pred_class1 = y_pred > 0.5\n",
    "cm = confusion_matrix(y_test, y_pred_class1)\n",
    "print(cm)"
   ]
  },
  {
   "cell_type": "code",
   "execution_count": 21,
   "metadata": {},
   "outputs": [],
   "source": [
    "# True Negative\n",
    "TN = cm[0,0]\n",
    "\n",
    "# False Negative\n",
    "FN=cm[1,0]\n",
    "\n",
    "# False Positives\n",
    "FP = cm[0,1]\n",
    "\n",
    "# True Positives\n",
    "TP = cm[1,1]"
   ]
  },
  {
   "cell_type": "code",
   "execution_count": 22,
   "metadata": {},
   "outputs": [
    {
     "name": "stdout",
     "output_type": "stream",
     "text": [
      "Sensitivity: 0.6745\n"
     ]
    }
   ],
   "source": [
    "# Calculating Sensitivity\n",
    "Sensitivity = TP / (TP + FN)\n",
    "print(f'Sensitivity: {Sensitivity:.4f}')"
   ]
  },
  {
   "cell_type": "code",
   "execution_count": 23,
   "metadata": {},
   "outputs": [
    {
     "name": "stdout",
     "output_type": "stream",
     "text": [
      "Specificity: 0.9951\n"
     ]
    }
   ],
   "source": [
    "# Calculating Specificity\n",
    "Specificity = TN / (TN + FP)\n",
    "print(f'Specificity: {Specificity:.4f}')"
   ]
  },
  {
   "cell_type": "code",
   "execution_count": 24,
   "metadata": {},
   "outputs": [
    {
     "name": "stdout",
     "output_type": "stream",
     "text": [
      "Precision: 0.7114\n"
     ]
    }
   ],
   "source": [
    "# Precision\n",
    "Precision = TP / (TP + FP)\n",
    "print(f'Precision: {Precision:.4f}')"
   ]
  },
  {
   "cell_type": "code",
   "execution_count": 25,
   "metadata": {},
   "outputs": [
    {
     "name": "stdout",
     "output_type": "stream",
     "text": [
      "False positive rate: 0.0049\n"
     ]
    }
   ],
   "source": [
    "# Calculate False positive rate\n",
    "False_Positive_rate = FP / (FP + TN)\n",
    "print(f'False positive rate: {False_Positive_rate:.4f}')"
   ]
  },
  {
   "cell_type": "code",
   "execution_count": 26,
   "metadata": {},
   "outputs": [],
   "source": [
    "y_pred_class2 = y_pred > 0.3"
   ]
  },
  {
   "cell_type": "code",
   "execution_count": 31,
   "metadata": {},
   "outputs": [
    {
     "name": "stdout",
     "output_type": "stream",
     "text": [
      "[[11700    88]\n",
      " [   58   154]]\n"
     ]
    }
   ],
   "source": [
    "cm=confusion_matrix(y_test,y_pred_class2)\n",
    "print(cm)"
   ]
  },
  {
   "cell_type": "code",
   "execution_count": 28,
   "metadata": {},
   "outputs": [],
   "source": [
    "# True Negative\n",
    "TN = cm[0,0]\n",
    "\n",
    "# False Negative\n",
    "FN=cm[1,0]\n",
    "\n",
    "# False Positives\n",
    "FP = cm[0,1]\n",
    "\n",
    "# True Positives\n",
    "TP = cm[1,1]"
   ]
  },
  {
   "cell_type": "code",
   "execution_count": 29,
   "metadata": {},
   "outputs": [
    {
     "name": "stdout",
     "output_type": "stream",
     "text": [
      "Sensitivity: 0.7264\n"
     ]
    }
   ],
   "source": [
    "# Calculating Sensitivity\n",
    "Sensitivity = TP / (TP + FN)\n",
    "print(f'Sensitivity: {Sensitivity:.4f}')"
   ]
  },
  {
   "cell_type": "code",
   "execution_count": 30,
   "metadata": {},
   "outputs": [
    {
     "name": "stdout",
     "output_type": "stream",
     "text": [
      "Specificity: 0.9925\n"
     ]
    }
   ],
   "source": [
    "# Calculating Specificity\n",
    "Specificity = TN / (TN + FP)\n",
    "print(f'Specificity: {Specificity:.4f}')"
   ]
  },
  {
   "cell_type": "code",
   "execution_count": 18,
   "metadata": {},
   "outputs": [
    {
     "data": {
      "image/png": "[encoded data removed]",
      "text/plain": [
       "<Figure size 432x288 with 1 Axes>"
      ]
     },
     "metadata": {
      "needs_background": "light"
     },
     "output_type": "display_data"
    }
   ],
   "source": [
    "import matplotlib.pyplot as plt\n",
    "%matplotlib inline\n",
    "#histogram of class distribution\n",
    "plt.hist(y_pred_prob, bins=100)\n",
    "plt.title(\"Histogram of Predicted Probabilities\")\n",
    "plt.xlabel(\"Predicted Probabilities of APS failure\")\n",
    "plt.ylabel(\"Frequency\")\n",
    "plt.show()"
   ]
  }
 ],
 "metadata": {
  "kernelspec": {
   "display_name": "py3.7",
   "language": "python",
   "name": "py3.7"
  },
  "language_info": {
   "codemirror_mode": {
    "name": "ipython",
    "version": 3
   },
   "file_extension": ".py",
   "mimetype": "text/x-python",
   "name": "python",
   "nbconvert_exporter": "python",
   "pygments_lexer": "ipython3",
   "version": "3.7.2"
  }
 },
 "nbformat": 4,
 "nbformat_minor": 2
}
