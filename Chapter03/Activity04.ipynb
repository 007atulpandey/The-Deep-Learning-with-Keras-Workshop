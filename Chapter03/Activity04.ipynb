{
 "cells": [
  {
   "cell_type": "markdown",
   "metadata": {},
   "source": [
    "# Activity 4\n"
   ]
  },
  {
   "cell_type": "code",
   "execution_count": 1,
   "metadata": {},
   "outputs": [
    {
     "name": "stderr",
     "output_type": "stream",
     "text": [
      "Using TensorFlow backend.\n"
     ]
    }
   ],
   "source": [
    "import pandas as pd\n",
    "import numpy as np\n",
    "from sklearn.model_selection import train_test_split\n",
    "from sklearn.preprocessing import StandardScaler\n",
    "from keras.models import Sequential\n",
    "from keras.layers import Dense\n",
    "\n",
    "import matplotlib.pyplot as plt \n",
    "import matplotlib\n",
    "%matplotlib inline "
   ]
  },
  {
   "cell_type": "code",
   "execution_count": 2,
   "metadata": {},
   "outputs": [
    {
     "name": "stdout",
     "output_type": "stream",
     "text": [
      "Number of Examples in the Dataset =  1385\n",
      "Number of Features for each example =  28\n",
      "Possible Output Classes =  [0 1]\n"
     ]
    }
   ],
   "source": [
    "# Load The dataset\n",
    "X = pd.read_csv('data/HCV_feats.csv')\n",
    "y = pd.read_csv('data/HCV_target.csv')\n",
    "\n",
    "# Print the sizes of the dataset\n",
    "print(\"Number of Examples in the Dataset = \", X.shape[0])\n",
    "print(\"Number of Features for each example = \", X.shape[1]) \n",
    "print(\"Possible Output Classes = \", y['AdvancedFibrosis'].unique())"
   ]
  },
  {
   "cell_type": "markdown",
   "metadata": {},
   "source": [
    "Set up a seed for random number generator so the result will be reproducible\n",
    "\n",
    "Split the dataset into training set and test set with a 80-20 ratio"
   ]
  },
  {
   "cell_type": "code",
   "execution_count": 3,
   "metadata": {},
   "outputs": [
    {
     "name": "stdout",
     "output_type": "stream",
     "text": [
      "(1108, 28)\n",
      "(1108, 1)\n",
      "(277, 28)\n",
      "(277, 1)\n",
      "Number of examples in training set =  1108\n",
      "Number of examples in test set =  277\n"
     ]
    }
   ],
   "source": [
    "seed = 1\n",
    "np.random.seed(seed)\n",
    "\n",
    "sc = StandardScaler()\n",
    "X = pd.DataFrame(sc.fit_transform(X), columns=X.columns)\n",
    "X_train, X_test, y_train, y_test = train_test_split(X, y, test_size=0.2, random_state=seed)\n",
    "\n",
    "# Print the information regarding dataset sizes\n",
    "print(X_train.shape)\n",
    "print(y_train.shape)\n",
    "print(X_test.shape)\n",
    "print(y_test.shape)\n",
    "print (\"Number of examples in training set = \", X_train.shape[0])\n",
    "print (\"Number of examples in test set = \", X_test.shape[0])"
   ]
  },
  {
   "cell_type": "code",
   "execution_count": 4,
   "metadata": {},
   "outputs": [
    {
     "name": "stdout",
     "output_type": "stream",
     "text": [
      "Model: \"sequential_1\"\n",
      "_________________________________________________________________\n",
      "Layer (type)                 Output Shape              Param #   \n",
      "=================================================================\n",
      "dense_1 (Dense)              (None, 3)                 87        \n",
      "_________________________________________________________________\n",
      "dense_2 (Dense)              (None, 1)                 4         \n",
      "=================================================================\n",
      "Total params: 91\n",
      "Trainable params: 91\n",
      "Non-trainable params: 0\n",
      "_________________________________________________________________\n"
     ]
    }
   ],
   "source": [
    "np.random.seed(seed)\n",
    "\n",
    "# define the keras model\n",
    "classifier = Sequential()\n",
    "classifier.add(Dense(units = 3, activation = 'tanh', input_dim=X_train.shape[1]))\n",
    "classifier.add(Dense(units = 1, activation = 'sigmoid'))\n",
    "classifier.compile(optimizer = 'sgd', loss = 'binary_crossentropy', metrics = ['accuracy'])\n",
    "\n",
    "classifier.summary()"
   ]
  },
  {
   "cell_type": "code",
   "execution_count": 5,
   "metadata": {},
   "outputs": [
    {
     "name": "stdout",
     "output_type": "stream",
     "text": [
      "Train on 997 samples, validate on 111 samples\n",
      "Epoch 1/100\n",
      "997/997 [==============================] - 0s 197us/step - loss: 0.6987 - accuracy: 0.4995 - val_loss: 0.6903 - val_accuracy: 0.5315\n",
      "Epoch 2/100\n",
      "997/997 [==============================] - 0s 47us/step - loss: 0.6978 - accuracy: 0.5045 - val_loss: 0.6898 - val_accuracy: 0.5315\n",
      "Epoch 3/100\n",
      "997/997 [==============================] - 0s 46us/step - loss: 0.6970 - accuracy: 0.5015 - val_loss: 0.6893 - val_accuracy: 0.5315\n",
      "Epoch 4/100\n",
      "997/997 [==============================] - 0s 50us/step - loss: 0.6964 - accuracy: 0.5075 - val_loss: 0.6890 - val_accuracy: 0.5315\n",
      "Epoch 5/100\n",
      "997/997 [==============================] - 0s 47us/step - loss: 0.6959 - accuracy: 0.5005 - val_loss: 0.6887 - val_accuracy: 0.5315\n",
      "Epoch 6/100\n",
      "997/997 [==============================] - 0s 46us/step - loss: 0.6954 - accuracy: 0.5055 - val_loss: 0.6885 - val_accuracy: 0.5225\n",
      "Epoch 7/100\n",
      "997/997 [==============================] - 0s 52us/step - loss: 0.6949 - accuracy: 0.5095 - val_loss: 0.6883 - val_accuracy: 0.5225\n",
      "Epoch 8/100\n",
      "997/997 [==============================] - 0s 47us/step - loss: 0.6946 - accuracy: 0.5055 - val_loss: 0.6881 - val_accuracy: 0.5225\n",
      "Epoch 9/100\n",
      "997/997 [==============================] - 0s 50us/step - loss: 0.6942 - accuracy: 0.5085 - val_loss: 0.6880 - val_accuracy: 0.5225\n",
      "Epoch 10/100\n",
      "997/997 [==============================] - 0s 48us/step - loss: 0.6940 - accuracy: 0.5105 - val_loss: 0.6879 - val_accuracy: 0.5225\n",
      "Epoch 11/100\n",
      "997/997 [==============================] - 0s 66us/step - loss: 0.6938 - accuracy: 0.5095 - val_loss: 0.6879 - val_accuracy: 0.5225\n",
      "Epoch 12/100\n",
      "997/997 [==============================] - 0s 49us/step - loss: 0.6936 - accuracy: 0.5095 - val_loss: 0.6878 - val_accuracy: 0.5225\n",
      "Epoch 13/100\n",
      "997/997 [==============================] - 0s 49us/step - loss: 0.6934 - accuracy: 0.5095 - val_loss: 0.6878 - val_accuracy: 0.5225\n",
      "Epoch 14/100\n",
      "997/997 [==============================] - 0s 51us/step - loss: 0.6932 - accuracy: 0.5115 - val_loss: 0.6878 - val_accuracy: 0.5225\n",
      "Epoch 15/100\n",
      "997/997 [==============================] - 0s 48us/step - loss: 0.6931 - accuracy: 0.5085 - val_loss: 0.6877 - val_accuracy: 0.5225\n",
      "Epoch 16/100\n",
      "997/997 [==============================] - 0s 61us/step - loss: 0.6930 - accuracy: 0.5115 - val_loss: 0.6877 - val_accuracy: 0.5225\n",
      "Epoch 17/100\n",
      "997/997 [==============================] - 0s 47us/step - loss: 0.6929 - accuracy: 0.5125 - val_loss: 0.6877 - val_accuracy: 0.5225\n",
      "Epoch 18/100\n",
      "997/997 [==============================] - 0s 45us/step - loss: 0.6928 - accuracy: 0.5105 - val_loss: 0.6877 - val_accuracy: 0.5225\n",
      "Epoch 19/100\n",
      "997/997 [==============================] - 0s 48us/step - loss: 0.6927 - accuracy: 0.5145 - val_loss: 0.6877 - val_accuracy: 0.5225\n",
      "Epoch 20/100\n",
      "997/997 [==============================] - 0s 43us/step - loss: 0.6926 - accuracy: 0.5135 - val_loss: 0.6877 - val_accuracy: 0.5225\n",
      "Epoch 21/100\n",
      "997/997 [==============================] - 0s 47us/step - loss: 0.6926 - accuracy: 0.5135 - val_loss: 0.6877 - val_accuracy: 0.5225\n",
      "Epoch 22/100\n",
      "997/997 [==============================] - 0s 51us/step - loss: 0.6925 - accuracy: 0.5115 - val_loss: 0.6877 - val_accuracy: 0.5225\n",
      "Epoch 23/100\n",
      "997/997 [==============================] - 0s 60us/step - loss: 0.6925 - accuracy: 0.5155 - val_loss: 0.6877 - val_accuracy: 0.5225\n",
      "Epoch 24/100\n",
      "997/997 [==============================] - 0s 56us/step - loss: 0.6924 - accuracy: 0.5165 - val_loss: 0.6877 - val_accuracy: 0.5225\n",
      "Epoch 25/100\n",
      "997/997 [==============================] - 0s 49us/step - loss: 0.6924 - accuracy: 0.5176 - val_loss: 0.6877 - val_accuracy: 0.5225\n",
      "Epoch 26/100\n",
      "997/997 [==============================] - 0s 44us/step - loss: 0.6923 - accuracy: 0.5135 - val_loss: 0.6876 - val_accuracy: 0.5315\n",
      "Epoch 27/100\n",
      "997/997 [==============================] - 0s 42us/step - loss: 0.6923 - accuracy: 0.5145 - val_loss: 0.6876 - val_accuracy: 0.5315\n",
      "Epoch 28/100\n",
      "997/997 [==============================] - 0s 43us/step - loss: 0.6923 - accuracy: 0.5196 - val_loss: 0.6876 - val_accuracy: 0.5315\n",
      "Epoch 29/100\n",
      "997/997 [==============================] - 0s 53us/step - loss: 0.6922 - accuracy: 0.5186 - val_loss: 0.6876 - val_accuracy: 0.5315\n",
      "Epoch 30/100\n",
      "997/997 [==============================] - 0s 45us/step - loss: 0.6922 - accuracy: 0.5196 - val_loss: 0.6875 - val_accuracy: 0.5315\n",
      "Epoch 31/100\n",
      "997/997 [==============================] - 0s 52us/step - loss: 0.6922 - accuracy: 0.5165 - val_loss: 0.6875 - val_accuracy: 0.5315\n",
      "Epoch 32/100\n",
      "997/997 [==============================] - 0s 47us/step - loss: 0.6921 - accuracy: 0.5165 - val_loss: 0.6874 - val_accuracy: 0.5315\n",
      "Epoch 33/100\n",
      "997/997 [==============================] - 0s 45us/step - loss: 0.6921 - accuracy: 0.5196 - val_loss: 0.6874 - val_accuracy: 0.5315\n",
      "Epoch 34/100\n",
      "997/997 [==============================] - 0s 48us/step - loss: 0.6921 - accuracy: 0.5176 - val_loss: 0.6874 - val_accuracy: 0.5315\n",
      "Epoch 35/100\n",
      "997/997 [==============================] - 0s 48us/step - loss: 0.6921 - accuracy: 0.5115 - val_loss: 0.6874 - val_accuracy: 0.5315\n",
      "Epoch 36/100\n",
      "997/997 [==============================] - 0s 46us/step - loss: 0.6921 - accuracy: 0.5176 - val_loss: 0.6874 - val_accuracy: 0.5315\n",
      "Epoch 37/100\n",
      "997/997 [==============================] - 0s 58us/step - loss: 0.6921 - accuracy: 0.5186 - val_loss: 0.6874 - val_accuracy: 0.5405\n",
      "Epoch 38/100\n",
      "997/997 [==============================] - 0s 45us/step - loss: 0.6920 - accuracy: 0.5176 - val_loss: 0.6874 - val_accuracy: 0.5405\n",
      "Epoch 39/100\n",
      "997/997 [==============================] - 0s 45us/step - loss: 0.6920 - accuracy: 0.5145 - val_loss: 0.6873 - val_accuracy: 0.5405\n",
      "Epoch 40/100\n",
      "997/997 [==============================] - 0s 53us/step - loss: 0.6920 - accuracy: 0.5176 - val_loss: 0.6873 - val_accuracy: 0.5405\n",
      "Epoch 41/100\n",
      "997/997 [==============================] - 0s 47us/step - loss: 0.6919 - accuracy: 0.5165 - val_loss: 0.6873 - val_accuracy: 0.5405\n",
      "Epoch 42/100\n",
      "997/997 [==============================] - 0s 48us/step - loss: 0.6919 - accuracy: 0.5186 - val_loss: 0.6873 - val_accuracy: 0.5405\n",
      "Epoch 43/100\n",
      "997/997 [==============================] - 0s 45us/step - loss: 0.6919 - accuracy: 0.5165 - val_loss: 0.6873 - val_accuracy: 0.5495\n",
      "Epoch 44/100\n",
      "997/997 [==============================] - 0s 47us/step - loss: 0.6919 - accuracy: 0.5165 - val_loss: 0.6872 - val_accuracy: 0.5495\n",
      "Epoch 45/100\n",
      "997/997 [==============================] - 0s 46us/step - loss: 0.6918 - accuracy: 0.5176 - val_loss: 0.6872 - val_accuracy: 0.5495\n",
      "Epoch 46/100\n",
      "997/997 [==============================] - 0s 44us/step - loss: 0.6918 - accuracy: 0.5145 - val_loss: 0.6871 - val_accuracy: 0.5495\n",
      "Epoch 47/100\n",
      "997/997 [==============================] - 0s 48us/step - loss: 0.6918 - accuracy: 0.5155 - val_loss: 0.6871 - val_accuracy: 0.5495\n",
      "Epoch 48/100\n",
      "997/997 [==============================] - 0s 42us/step - loss: 0.6918 - accuracy: 0.5186 - val_loss: 0.6871 - val_accuracy: 0.5586\n",
      "Epoch 49/100\n",
      "997/997 [==============================] - 0s 42us/step - loss: 0.6918 - accuracy: 0.5135 - val_loss: 0.6871 - val_accuracy: 0.5586\n",
      "Epoch 50/100\n",
      "997/997 [==============================] - 0s 45us/step - loss: 0.6918 - accuracy: 0.5196 - val_loss: 0.6870 - val_accuracy: 0.5586\n",
      "Epoch 51/100\n",
      "997/997 [==============================] - 0s 46us/step - loss: 0.6918 - accuracy: 0.5176 - val_loss: 0.6869 - val_accuracy: 0.5586\n",
      "Epoch 52/100\n",
      "997/997 [==============================] - 0s 44us/step - loss: 0.6917 - accuracy: 0.5145 - val_loss: 0.6869 - val_accuracy: 0.5586\n",
      "Epoch 53/100\n",
      "997/997 [==============================] - 0s 42us/step - loss: 0.6917 - accuracy: 0.5226 - val_loss: 0.6869 - val_accuracy: 0.5586\n",
      "Epoch 54/100\n",
      "997/997 [==============================] - 0s 46us/step - loss: 0.6917 - accuracy: 0.5206 - val_loss: 0.6868 - val_accuracy: 0.5586\n",
      "Epoch 55/100\n",
      "997/997 [==============================] - 0s 46us/step - loss: 0.6917 - accuracy: 0.5186 - val_loss: 0.6868 - val_accuracy: 0.5586\n",
      "Epoch 56/100\n",
      "997/997 [==============================] - 0s 52us/step - loss: 0.6917 - accuracy: 0.5186 - val_loss: 0.6867 - val_accuracy: 0.5586\n",
      "Epoch 57/100\n"
     ]
    },
    {
     "name": "stdout",
     "output_type": "stream",
     "text": [
      "997/997 [==============================] - 0s 49us/step - loss: 0.6916 - accuracy: 0.5206 - val_loss: 0.6867 - val_accuracy: 0.5586\n",
      "Epoch 58/100\n",
      "997/997 [==============================] - 0s 47us/step - loss: 0.6916 - accuracy: 0.5196 - val_loss: 0.6867 - val_accuracy: 0.5586\n",
      "Epoch 59/100\n",
      "997/997 [==============================] - 0s 46us/step - loss: 0.6915 - accuracy: 0.5196 - val_loss: 0.6866 - val_accuracy: 0.5586\n",
      "Epoch 60/100\n",
      "997/997 [==============================] - 0s 43us/step - loss: 0.6916 - accuracy: 0.5216 - val_loss: 0.6866 - val_accuracy: 0.5586\n",
      "Epoch 61/100\n",
      "997/997 [==============================] - 0s 40us/step - loss: 0.6915 - accuracy: 0.5196 - val_loss: 0.6866 - val_accuracy: 0.5586\n",
      "Epoch 62/100\n",
      "997/997 [==============================] - 0s 42us/step - loss: 0.6915 - accuracy: 0.5226 - val_loss: 0.6866 - val_accuracy: 0.5676\n",
      "Epoch 63/100\n",
      "997/997 [==============================] - 0s 43us/step - loss: 0.6915 - accuracy: 0.5196 - val_loss: 0.6866 - val_accuracy: 0.5676\n",
      "Epoch 64/100\n",
      "997/997 [==============================] - 0s 44us/step - loss: 0.6914 - accuracy: 0.5165 - val_loss: 0.6865 - val_accuracy: 0.5676\n",
      "Epoch 65/100\n",
      "997/997 [==============================] - 0s 46us/step - loss: 0.6915 - accuracy: 0.5186 - val_loss: 0.6865 - val_accuracy: 0.5676\n",
      "Epoch 66/100\n",
      "997/997 [==============================] - 0s 40us/step - loss: 0.6914 - accuracy: 0.5176 - val_loss: 0.6864 - val_accuracy: 0.5676\n",
      "Epoch 67/100\n",
      "997/997 [==============================] - 0s 43us/step - loss: 0.6914 - accuracy: 0.5206 - val_loss: 0.6864 - val_accuracy: 0.5676\n",
      "Epoch 68/100\n",
      "997/997 [==============================] - 0s 42us/step - loss: 0.6913 - accuracy: 0.5206 - val_loss: 0.6863 - val_accuracy: 0.5676\n",
      "Epoch 69/100\n",
      "997/997 [==============================] - 0s 40us/step - loss: 0.6913 - accuracy: 0.5246 - val_loss: 0.6863 - val_accuracy: 0.5676\n",
      "Epoch 70/100\n",
      "997/997 [==============================] - 0s 44us/step - loss: 0.6913 - accuracy: 0.5276 - val_loss: 0.6862 - val_accuracy: 0.5676\n",
      "Epoch 71/100\n",
      "997/997 [==============================] - 0s 39us/step - loss: 0.6913 - accuracy: 0.5226 - val_loss: 0.6861 - val_accuracy: 0.5766\n",
      "Epoch 72/100\n",
      "997/997 [==============================] - 0s 43us/step - loss: 0.6912 - accuracy: 0.5236 - val_loss: 0.6860 - val_accuracy: 0.5766\n",
      "Epoch 73/100\n",
      "997/997 [==============================] - 0s 41us/step - loss: 0.6913 - accuracy: 0.5236 - val_loss: 0.6860 - val_accuracy: 0.5766\n",
      "Epoch 74/100\n",
      "997/997 [==============================] - 0s 61us/step - loss: 0.6912 - accuracy: 0.5196 - val_loss: 0.6860 - val_accuracy: 0.5856\n",
      "Epoch 75/100\n",
      "997/997 [==============================] - 0s 48us/step - loss: 0.6912 - accuracy: 0.5236 - val_loss: 0.6860 - val_accuracy: 0.5856\n",
      "Epoch 76/100\n",
      "997/997 [==============================] - 0s 42us/step - loss: 0.6911 - accuracy: 0.5256 - val_loss: 0.6860 - val_accuracy: 0.5856\n",
      "Epoch 77/100\n",
      "997/997 [==============================] - 0s 44us/step - loss: 0.6911 - accuracy: 0.5266 - val_loss: 0.6860 - val_accuracy: 0.5856\n",
      "Epoch 78/100\n",
      "997/997 [==============================] - 0s 44us/step - loss: 0.6911 - accuracy: 0.5266 - val_loss: 0.6859 - val_accuracy: 0.5856\n",
      "Epoch 79/100\n",
      "997/997 [==============================] - 0s 43us/step - loss: 0.6911 - accuracy: 0.5246 - val_loss: 0.6859 - val_accuracy: 0.5856\n",
      "Epoch 80/100\n",
      "997/997 [==============================] - 0s 46us/step - loss: 0.6910 - accuracy: 0.5286 - val_loss: 0.6859 - val_accuracy: 0.5856\n",
      "Epoch 81/100\n",
      "997/997 [==============================] - 0s 55us/step - loss: 0.6910 - accuracy: 0.5256 - val_loss: 0.6858 - val_accuracy: 0.5856\n",
      "Epoch 82/100\n",
      "997/997 [==============================] - 0s 41us/step - loss: 0.6910 - accuracy: 0.5226 - val_loss: 0.6859 - val_accuracy: 0.5856\n",
      "Epoch 83/100\n",
      "997/997 [==============================] - 0s 43us/step - loss: 0.6909 - accuracy: 0.5226 - val_loss: 0.6858 - val_accuracy: 0.5856\n",
      "Epoch 84/100\n",
      "997/997 [==============================] - 0s 42us/step - loss: 0.6909 - accuracy: 0.5256 - val_loss: 0.6858 - val_accuracy: 0.5856\n",
      "Epoch 85/100\n",
      "997/997 [==============================] - 0s 42us/step - loss: 0.6909 - accuracy: 0.5226 - val_loss: 0.6858 - val_accuracy: 0.5766\n",
      "Epoch 86/100\n",
      "997/997 [==============================] - 0s 43us/step - loss: 0.6909 - accuracy: 0.5186 - val_loss: 0.6858 - val_accuracy: 0.5766\n",
      "Epoch 87/100\n",
      "997/997 [==============================] - 0s 44us/step - loss: 0.6908 - accuracy: 0.5246 - val_loss: 0.6859 - val_accuracy: 0.5766\n",
      "Epoch 88/100\n",
      "997/997 [==============================] - 0s 41us/step - loss: 0.6908 - accuracy: 0.5226 - val_loss: 0.6858 - val_accuracy: 0.5766\n",
      "Epoch 89/100\n",
      "997/997 [==============================] - 0s 43us/step - loss: 0.6907 - accuracy: 0.5226 - val_loss: 0.6857 - val_accuracy: 0.5766\n",
      "Epoch 90/100\n",
      "997/997 [==============================] - 0s 42us/step - loss: 0.6907 - accuracy: 0.5286 - val_loss: 0.6857 - val_accuracy: 0.5766\n",
      "Epoch 91/100\n",
      "997/997 [==============================] - 0s 43us/step - loss: 0.6907 - accuracy: 0.5266 - val_loss: 0.6857 - val_accuracy: 0.5676\n",
      "Epoch 92/100\n",
      "997/997 [==============================] - 0s 42us/step - loss: 0.6906 - accuracy: 0.5246 - val_loss: 0.6857 - val_accuracy: 0.5676\n",
      "Epoch 93/100\n",
      "997/997 [==============================] - 0s 41us/step - loss: 0.6906 - accuracy: 0.5236 - val_loss: 0.6856 - val_accuracy: 0.5676\n",
      "Epoch 94/100\n",
      "997/997 [==============================] - 0s 42us/step - loss: 0.6906 - accuracy: 0.5266 - val_loss: 0.6856 - val_accuracy: 0.5676\n",
      "Epoch 95/100\n",
      "997/997 [==============================] - 0s 42us/step - loss: 0.6905 - accuracy: 0.5196 - val_loss: 0.6856 - val_accuracy: 0.5676\n",
      "Epoch 96/100\n",
      "997/997 [==============================] - 0s 47us/step - loss: 0.6905 - accuracy: 0.5226 - val_loss: 0.6856 - val_accuracy: 0.5676\n",
      "Epoch 97/100\n",
      "997/997 [==============================] - 0s 43us/step - loss: 0.6904 - accuracy: 0.5296 - val_loss: 0.6855 - val_accuracy: 0.5676\n",
      "Epoch 98/100\n",
      "997/997 [==============================] - 0s 41us/step - loss: 0.6904 - accuracy: 0.5266 - val_loss: 0.6855 - val_accuracy: 0.5676\n",
      "Epoch 99/100\n",
      "997/997 [==============================] - 0s 43us/step - loss: 0.6904 - accuracy: 0.5246 - val_loss: 0.6854 - val_accuracy: 0.5676\n",
      "Epoch 100/100\n",
      "997/997 [==============================] - 0s 43us/step - loss: 0.6903 - accuracy: 0.5236 - val_loss: 0.6854 - val_accuracy: 0.5676\n"
     ]
    }
   ],
   "source": [
    "# train the model while storing all loss values\n",
    "history=classifier.fit(X_train, y_train, batch_size = 20, epochs = 100, validation_split=0.1)"
   ]
  },
  {
   "cell_type": "code",
   "execution_count": 6,
   "metadata": {},
   "outputs": [
    {
     "data": {
      "text/plain": [
       "<matplotlib.legend.Legend at 0x13eb36b70>"
      ]
     },
     "execution_count": 6,
     "metadata": {},
     "output_type": "execute_result"
    },
    {
     "data": {
      "image/png": "[encoded data removed]",
      "text/plain": [
       "<Figure size 720x576 with 1 Axes>"
      ]
     },
     "metadata": {
      "needs_background": "light"
     },
     "output_type": "display_data"
    }
   ],
   "source": [
    "matplotlib.rcParams['figure.figsize'] = (10.0, 8.0) \n",
    "\n",
    "# plot training error and test error plots \n",
    "plt.plot(history.history['loss'])\n",
    "plt.plot(history.history['val_loss'])\n",
    "plt.ylabel('loss')\n",
    "plt.xlabel('epoch')\n",
    "plt.legend(['train loss', 'validation loss'], loc='upper right')"
   ]
  },
  {
   "cell_type": "code",
   "execution_count": 7,
   "metadata": {},
   "outputs": [
    {
     "name": "stdout",
     "output_type": "stream",
     "text": [
      "Best Accuracy on training set = 52.959%\n",
      "Best Accuracy on validation set = 58.559%\n",
      "277/277 [==============================] - 0s 24us/step\n",
      "The loss on the test set is 0.6885 and the accuracy is 55.235%\n"
     ]
    }
   ],
   "source": [
    "# print the best accuracy reached on training set and the test set\n",
    "print(f\"Best Accuracy on training set = {max(history.history['accuracy'])*100:.3f}%\")\n",
    "print(f\"Best Accuracy on validation set = {max(history.history['val_accuracy'])*100:.3f}%\") \n",
    "\n",
    "test_loss, test_acc = classifier.evaluate(X_test, y_test['AdvancedFibrosis'])\n",
    "print(f'The loss on the test set is {test_loss:.4f} and the accuracy is {test_acc*100:.3f}%')"
   ]
  },
  {
   "cell_type": "code",
   "execution_count": 8,
   "metadata": {},
   "outputs": [
    {
     "name": "stdout",
     "output_type": "stream",
     "text": [
      "Model: \"sequential_2\"\n",
      "_________________________________________________________________\n",
      "Layer (type)                 Output Shape              Param #   \n",
      "=================================================================\n",
      "dense_3 (Dense)              (None, 4)                 116       \n",
      "_________________________________________________________________\n",
      "dense_4 (Dense)              (None, 2)                 10        \n",
      "_________________________________________________________________\n",
      "dense_5 (Dense)              (None, 1)                 3         \n",
      "=================================================================\n",
      "Total params: 129\n",
      "Trainable params: 129\n",
      "Non-trainable params: 0\n",
      "_________________________________________________________________\n"
     ]
    }
   ],
   "source": [
    "# set up a seed for random number generator so the result will be reproducible\n",
    "np.random.seed(seed)\n",
    "\n",
    "# define the keras model\n",
    "classifier = Sequential()\n",
    "classifier.add(Dense(units = 4, activation = 'tanh', input_dim = X_train.shape[1]))\n",
    "classifier.add(Dense(units = 2, activation = 'tanh'))\n",
    "classifier.add(Dense(units = 1, activation = 'sigmoid'))\n",
    "classifier.compile(optimizer = 'sgd', loss = 'binary_crossentropy', metrics = ['accuracy'])\n",
    "\n",
    "classifier.summary()"
   ]
  },
  {
   "cell_type": "code",
   "execution_count": 9,
   "metadata": {},
   "outputs": [
    {
     "name": "stdout",
     "output_type": "stream",
     "text": [
      "Train on 997 samples, validate on 111 samples\n",
      "Epoch 1/100\n",
      "997/997 [==============================] - 0s 157us/step - loss: 0.8915 - accuracy: 0.4845 - val_loss: 0.9305 - val_accuracy: 0.4414\n",
      "Epoch 2/100\n",
      "997/997 [==============================] - 0s 53us/step - loss: 0.8432 - accuracy: 0.4875 - val_loss: 0.8811 - val_accuracy: 0.4414\n",
      "Epoch 3/100\n",
      "997/997 [==============================] - 0s 51us/step - loss: 0.8074 - accuracy: 0.4905 - val_loss: 0.8436 - val_accuracy: 0.4414\n",
      "Epoch 4/100\n",
      "997/997 [==============================] - 0s 46us/step - loss: 0.7812 - accuracy: 0.4935 - val_loss: 0.8144 - val_accuracy: 0.4505\n",
      "Epoch 5/100\n",
      "997/997 [==============================] - 0s 46us/step - loss: 0.7618 - accuracy: 0.4975 - val_loss: 0.7921 - val_accuracy: 0.4505\n",
      "Epoch 6/100\n",
      "997/997 [==============================] - 0s 45us/step - loss: 0.7474 - accuracy: 0.5045 - val_loss: 0.7745 - val_accuracy: 0.4505\n",
      "Epoch 7/100\n",
      "997/997 [==============================] - 0s 53us/step - loss: 0.7365 - accuracy: 0.5075 - val_loss: 0.7606 - val_accuracy: 0.4595\n",
      "Epoch 8/100\n",
      "997/997 [==============================] - 0s 48us/step - loss: 0.7283 - accuracy: 0.5055 - val_loss: 0.7493 - val_accuracy: 0.4595\n",
      "Epoch 9/100\n",
      "997/997 [==============================] - 0s 41us/step - loss: 0.7217 - accuracy: 0.5105 - val_loss: 0.7403 - val_accuracy: 0.4505\n",
      "Epoch 10/100\n",
      "997/997 [==============================] - 0s 49us/step - loss: 0.7166 - accuracy: 0.5145 - val_loss: 0.7327 - val_accuracy: 0.4595\n",
      "Epoch 11/100\n",
      "997/997 [==============================] - 0s 48us/step - loss: 0.7126 - accuracy: 0.5196 - val_loss: 0.7267 - val_accuracy: 0.4595\n",
      "Epoch 12/100\n",
      "997/997 [==============================] - 0s 49us/step - loss: 0.7093 - accuracy: 0.5155 - val_loss: 0.7216 - val_accuracy: 0.4595\n",
      "Epoch 13/100\n",
      "997/997 [==============================] - 0s 48us/step - loss: 0.7066 - accuracy: 0.5145 - val_loss: 0.7174 - val_accuracy: 0.4775\n",
      "Epoch 14/100\n",
      "997/997 [==============================] - 0s 50us/step - loss: 0.7044 - accuracy: 0.5216 - val_loss: 0.7138 - val_accuracy: 0.4865\n",
      "Epoch 15/100\n",
      "997/997 [==============================] - 0s 47us/step - loss: 0.7025 - accuracy: 0.5216 - val_loss: 0.7107 - val_accuracy: 0.4865\n",
      "Epoch 16/100\n",
      "997/997 [==============================] - 0s 48us/step - loss: 0.7010 - accuracy: 0.5216 - val_loss: 0.7079 - val_accuracy: 0.4865\n",
      "Epoch 17/100\n",
      "997/997 [==============================] - 0s 51us/step - loss: 0.6996 - accuracy: 0.5256 - val_loss: 0.7058 - val_accuracy: 0.5045\n",
      "Epoch 18/100\n",
      "997/997 [==============================] - 0s 46us/step - loss: 0.6985 - accuracy: 0.5266 - val_loss: 0.7038 - val_accuracy: 0.5135\n",
      "Epoch 19/100\n",
      "997/997 [==============================] - 0s 49us/step - loss: 0.6974 - accuracy: 0.5236 - val_loss: 0.7022 - val_accuracy: 0.5315\n",
      "Epoch 20/100\n",
      "997/997 [==============================] - 0s 48us/step - loss: 0.6965 - accuracy: 0.5206 - val_loss: 0.7007 - val_accuracy: 0.5315\n",
      "Epoch 21/100\n",
      "997/997 [==============================] - 0s 47us/step - loss: 0.6958 - accuracy: 0.5186 - val_loss: 0.6994 - val_accuracy: 0.5135\n",
      "Epoch 22/100\n",
      "997/997 [==============================] - 0s 54us/step - loss: 0.6950 - accuracy: 0.5266 - val_loss: 0.6983 - val_accuracy: 0.5135\n",
      "Epoch 23/100\n",
      "997/997 [==============================] - 0s 48us/step - loss: 0.6944 - accuracy: 0.5376 - val_loss: 0.6972 - val_accuracy: 0.5135\n",
      "Epoch 24/100\n",
      "997/997 [==============================] - 0s 51us/step - loss: 0.6938 - accuracy: 0.5316 - val_loss: 0.6964 - val_accuracy: 0.5225\n",
      "Epoch 25/100\n",
      "997/997 [==============================] - 0s 50us/step - loss: 0.6933 - accuracy: 0.5376 - val_loss: 0.6956 - val_accuracy: 0.5225\n",
      "Epoch 26/100\n",
      "997/997 [==============================] - 0s 53us/step - loss: 0.6929 - accuracy: 0.5376 - val_loss: 0.6949 - val_accuracy: 0.5225\n",
      "Epoch 27/100\n",
      "997/997 [==============================] - 0s 66us/step - loss: 0.6924 - accuracy: 0.5356 - val_loss: 0.6944 - val_accuracy: 0.5135\n",
      "Epoch 28/100\n",
      "997/997 [==============================] - 0s 52us/step - loss: 0.6921 - accuracy: 0.5386 - val_loss: 0.6941 - val_accuracy: 0.5135\n",
      "Epoch 29/100\n",
      "997/997 [==============================] - 0s 58us/step - loss: 0.6917 - accuracy: 0.5366 - val_loss: 0.6935 - val_accuracy: 0.5135\n",
      "Epoch 30/100\n",
      "997/997 [==============================] - 0s 51us/step - loss: 0.6913 - accuracy: 0.5396 - val_loss: 0.6931 - val_accuracy: 0.5045\n",
      "Epoch 31/100\n",
      "997/997 [==============================] - 0s 44us/step - loss: 0.6910 - accuracy: 0.5446 - val_loss: 0.6925 - val_accuracy: 0.5045\n",
      "Epoch 32/100\n",
      "997/997 [==============================] - 0s 49us/step - loss: 0.6907 - accuracy: 0.5386 - val_loss: 0.6923 - val_accuracy: 0.5225\n",
      "Epoch 33/100\n",
      "997/997 [==============================] - 0s 48us/step - loss: 0.6905 - accuracy: 0.5436 - val_loss: 0.6921 - val_accuracy: 0.5315\n",
      "Epoch 34/100\n",
      "997/997 [==============================] - 0s 48us/step - loss: 0.6902 - accuracy: 0.5466 - val_loss: 0.6920 - val_accuracy: 0.5405\n",
      "Epoch 35/100\n",
      "997/997 [==============================] - 0s 47us/step - loss: 0.6899 - accuracy: 0.5446 - val_loss: 0.6919 - val_accuracy: 0.5315\n",
      "Epoch 36/100\n",
      "997/997 [==============================] - 0s 52us/step - loss: 0.6897 - accuracy: 0.5466 - val_loss: 0.6919 - val_accuracy: 0.5225\n",
      "Epoch 37/100\n",
      "997/997 [==============================] - 0s 47us/step - loss: 0.6894 - accuracy: 0.5436 - val_loss: 0.6919 - val_accuracy: 0.5225\n",
      "Epoch 38/100\n",
      "997/997 [==============================] - 0s 44us/step - loss: 0.6893 - accuracy: 0.5486 - val_loss: 0.6917 - val_accuracy: 0.5315\n",
      "Epoch 39/100\n",
      "997/997 [==============================] - 0s 44us/step - loss: 0.6891 - accuracy: 0.5496 - val_loss: 0.6916 - val_accuracy: 0.5315\n",
      "Epoch 40/100\n",
      "997/997 [==============================] - 0s 46us/step - loss: 0.6888 - accuracy: 0.5507 - val_loss: 0.6915 - val_accuracy: 0.5315\n",
      "Epoch 41/100\n",
      "997/997 [==============================] - 0s 46us/step - loss: 0.6887 - accuracy: 0.5456 - val_loss: 0.6916 - val_accuracy: 0.5315\n",
      "Epoch 42/100\n",
      "997/997 [==============================] - 0s 47us/step - loss: 0.6885 - accuracy: 0.5537 - val_loss: 0.6916 - val_accuracy: 0.5315\n",
      "Epoch 43/100\n",
      "997/997 [==============================] - 0s 52us/step - loss: 0.6883 - accuracy: 0.5557 - val_loss: 0.6915 - val_accuracy: 0.5225\n",
      "Epoch 44/100\n",
      "997/997 [==============================] - 0s 52us/step - loss: 0.6881 - accuracy: 0.5547 - val_loss: 0.6915 - val_accuracy: 0.5225\n",
      "Epoch 45/100\n",
      "997/997 [==============================] - 0s 49us/step - loss: 0.6880 - accuracy: 0.5456 - val_loss: 0.6916 - val_accuracy: 0.5225\n",
      "Epoch 46/100\n",
      "997/997 [==============================] - 0s 48us/step - loss: 0.6878 - accuracy: 0.5557 - val_loss: 0.6915 - val_accuracy: 0.5225\n",
      "Epoch 47/100\n",
      "997/997 [==============================] - 0s 56us/step - loss: 0.6876 - accuracy: 0.5597 - val_loss: 0.6914 - val_accuracy: 0.5225\n",
      "Epoch 48/100\n",
      "997/997 [==============================] - 0s 45us/step - loss: 0.6875 - accuracy: 0.5547 - val_loss: 0.6913 - val_accuracy: 0.5225\n",
      "Epoch 49/100\n",
      "997/997 [==============================] - 0s 42us/step - loss: 0.6873 - accuracy: 0.5547 - val_loss: 0.6914 - val_accuracy: 0.5225\n",
      "Epoch 50/100\n",
      "997/997 [==============================] - 0s 47us/step - loss: 0.6872 - accuracy: 0.5517 - val_loss: 0.6913 - val_accuracy: 0.5225\n",
      "Epoch 51/100\n",
      "997/997 [==============================] - 0s 45us/step - loss: 0.6870 - accuracy: 0.5496 - val_loss: 0.6913 - val_accuracy: 0.5225\n",
      "Epoch 52/100\n",
      "997/997 [==============================] - 0s 49us/step - loss: 0.6868 - accuracy: 0.5517 - val_loss: 0.6911 - val_accuracy: 0.5135\n",
      "Epoch 53/100\n",
      "997/997 [==============================] - 0s 43us/step - loss: 0.6867 - accuracy: 0.5507 - val_loss: 0.6913 - val_accuracy: 0.5135\n",
      "Epoch 54/100\n",
      "997/997 [==============================] - 0s 50us/step - loss: 0.6866 - accuracy: 0.5486 - val_loss: 0.6913 - val_accuracy: 0.5135\n",
      "Epoch 55/100\n",
      "997/997 [==============================] - 0s 47us/step - loss: 0.6865 - accuracy: 0.5507 - val_loss: 0.6914 - val_accuracy: 0.5225\n",
      "Epoch 56/100\n",
      "997/997 [==============================] - 0s 45us/step - loss: 0.6863 - accuracy: 0.5476 - val_loss: 0.6917 - val_accuracy: 0.5045\n",
      "Epoch 57/100\n"
     ]
    },
    {
     "name": "stdout",
     "output_type": "stream",
     "text": [
      "997/997 [==============================] - 0s 46us/step - loss: 0.6862 - accuracy: 0.5537 - val_loss: 0.6916 - val_accuracy: 0.5045\n",
      "Epoch 58/100\n",
      "997/997 [==============================] - 0s 46us/step - loss: 0.6860 - accuracy: 0.5557 - val_loss: 0.6916 - val_accuracy: 0.4955\n",
      "Epoch 59/100\n",
      "997/997 [==============================] - 0s 43us/step - loss: 0.6858 - accuracy: 0.5507 - val_loss: 0.6916 - val_accuracy: 0.4955\n",
      "Epoch 60/100\n",
      "997/997 [==============================] - 0s 45us/step - loss: 0.6857 - accuracy: 0.5567 - val_loss: 0.6917 - val_accuracy: 0.4955\n",
      "Epoch 61/100\n",
      "997/997 [==============================] - 0s 45us/step - loss: 0.6856 - accuracy: 0.5587 - val_loss: 0.6918 - val_accuracy: 0.4955\n",
      "Epoch 62/100\n",
      "997/997 [==============================] - 0s 47us/step - loss: 0.6854 - accuracy: 0.5507 - val_loss: 0.6918 - val_accuracy: 0.4865\n",
      "Epoch 63/100\n",
      "997/997 [==============================] - 0s 49us/step - loss: 0.6853 - accuracy: 0.5527 - val_loss: 0.6918 - val_accuracy: 0.4865\n",
      "Epoch 64/100\n",
      "997/997 [==============================] - 0s 51us/step - loss: 0.6851 - accuracy: 0.5557 - val_loss: 0.6919 - val_accuracy: 0.4865\n",
      "Epoch 65/100\n",
      "997/997 [==============================] - 0s 46us/step - loss: 0.6850 - accuracy: 0.5537 - val_loss: 0.6921 - val_accuracy: 0.4865\n",
      "Epoch 66/100\n",
      "997/997 [==============================] - 0s 49us/step - loss: 0.6848 - accuracy: 0.5496 - val_loss: 0.6920 - val_accuracy: 0.4955\n",
      "Epoch 67/100\n",
      "997/997 [==============================] - 0s 43us/step - loss: 0.6847 - accuracy: 0.5507 - val_loss: 0.6920 - val_accuracy: 0.4955\n",
      "Epoch 68/100\n",
      "997/997 [==============================] - 0s 54us/step - loss: 0.6845 - accuracy: 0.5517 - val_loss: 0.6921 - val_accuracy: 0.4955\n",
      "Epoch 69/100\n",
      "997/997 [==============================] - 0s 46us/step - loss: 0.6844 - accuracy: 0.5547 - val_loss: 0.6921 - val_accuracy: 0.4955\n",
      "Epoch 70/100\n",
      "997/997 [==============================] - 0s 46us/step - loss: 0.6842 - accuracy: 0.5527 - val_loss: 0.6921 - val_accuracy: 0.4955\n",
      "Epoch 71/100\n",
      "997/997 [==============================] - 0s 53us/step - loss: 0.6841 - accuracy: 0.5557 - val_loss: 0.6923 - val_accuracy: 0.4955\n",
      "Epoch 72/100\n",
      "997/997 [==============================] - 0s 51us/step - loss: 0.6840 - accuracy: 0.5587 - val_loss: 0.6926 - val_accuracy: 0.4955\n",
      "Epoch 73/100\n",
      "997/997 [==============================] - ETA: 0s - loss: 0.6931 - accuracy: 0.60 - 0s 46us/step - loss: 0.6838 - accuracy: 0.5587 - val_loss: 0.6927 - val_accuracy: 0.4955\n",
      "Epoch 74/100\n",
      "997/997 [==============================] - 0s 45us/step - loss: 0.6836 - accuracy: 0.5587 - val_loss: 0.6927 - val_accuracy: 0.4955\n",
      "Epoch 75/100\n",
      "997/997 [==============================] - 0s 44us/step - loss: 0.6834 - accuracy: 0.5627 - val_loss: 0.6928 - val_accuracy: 0.5045\n",
      "Epoch 76/100\n",
      "997/997 [==============================] - 0s 45us/step - loss: 0.6833 - accuracy: 0.5627 - val_loss: 0.6929 - val_accuracy: 0.5045\n",
      "Epoch 77/100\n",
      "997/997 [==============================] - 0s 43us/step - loss: 0.6833 - accuracy: 0.5557 - val_loss: 0.6928 - val_accuracy: 0.5045\n",
      "Epoch 78/100\n",
      "997/997 [==============================] - 0s 43us/step - loss: 0.6831 - accuracy: 0.5557 - val_loss: 0.6928 - val_accuracy: 0.5045\n",
      "Epoch 79/100\n",
      "997/997 [==============================] - 0s 49us/step - loss: 0.6829 - accuracy: 0.5597 - val_loss: 0.6929 - val_accuracy: 0.5045\n",
      "Epoch 80/100\n",
      "997/997 [==============================] - 0s 52us/step - loss: 0.6828 - accuracy: 0.5567 - val_loss: 0.6931 - val_accuracy: 0.5045\n",
      "Epoch 81/100\n",
      "997/997 [==============================] - 0s 56us/step - loss: 0.6826 - accuracy: 0.5607 - val_loss: 0.6932 - val_accuracy: 0.5045\n",
      "Epoch 82/100\n",
      "997/997 [==============================] - 0s 52us/step - loss: 0.6825 - accuracy: 0.5577 - val_loss: 0.6932 - val_accuracy: 0.5045\n",
      "Epoch 83/100\n",
      "997/997 [==============================] - 0s 56us/step - loss: 0.6823 - accuracy: 0.5627 - val_loss: 0.6934 - val_accuracy: 0.5045\n",
      "Epoch 84/100\n",
      "997/997 [==============================] - 0s 48us/step - loss: 0.6822 - accuracy: 0.5597 - val_loss: 0.6933 - val_accuracy: 0.5045\n",
      "Epoch 85/100\n",
      "997/997 [==============================] - 0s 48us/step - loss: 0.6820 - accuracy: 0.5597 - val_loss: 0.6934 - val_accuracy: 0.4955\n",
      "Epoch 86/100\n",
      "997/997 [==============================] - 0s 49us/step - loss: 0.6818 - accuracy: 0.5607 - val_loss: 0.6935 - val_accuracy: 0.5045\n",
      "Epoch 87/100\n",
      "997/997 [==============================] - 0s 52us/step - loss: 0.6817 - accuracy: 0.5627 - val_loss: 0.6936 - val_accuracy: 0.5045\n",
      "Epoch 88/100\n",
      "997/997 [==============================] - 0s 55us/step - loss: 0.6815 - accuracy: 0.5647 - val_loss: 0.6938 - val_accuracy: 0.5045\n",
      "Epoch 89/100\n",
      "997/997 [==============================] - 0s 49us/step - loss: 0.6814 - accuracy: 0.5657 - val_loss: 0.6937 - val_accuracy: 0.5045\n",
      "Epoch 90/100\n",
      "997/997 [==============================] - 0s 45us/step - loss: 0.6812 - accuracy: 0.5647 - val_loss: 0.6936 - val_accuracy: 0.5135\n",
      "Epoch 91/100\n",
      "997/997 [==============================] - 0s 52us/step - loss: 0.6810 - accuracy: 0.5647 - val_loss: 0.6938 - val_accuracy: 0.5135\n",
      "Epoch 92/100\n",
      "997/997 [==============================] - 0s 50us/step - loss: 0.6809 - accuracy: 0.5687 - val_loss: 0.6940 - val_accuracy: 0.5135\n",
      "Epoch 93/100\n",
      "997/997 [==============================] - 0s 51us/step - loss: 0.6807 - accuracy: 0.5667 - val_loss: 0.6941 - val_accuracy: 0.5135\n",
      "Epoch 94/100\n",
      "997/997 [==============================] - 0s 50us/step - loss: 0.6805 - accuracy: 0.5647 - val_loss: 0.6942 - val_accuracy: 0.5135\n",
      "Epoch 95/100\n",
      "997/997 [==============================] - 0s 47us/step - loss: 0.6804 - accuracy: 0.5657 - val_loss: 0.6940 - val_accuracy: 0.5135\n",
      "Epoch 96/100\n",
      "997/997 [==============================] - 0s 50us/step - loss: 0.6801 - accuracy: 0.5647 - val_loss: 0.6941 - val_accuracy: 0.5135\n",
      "Epoch 97/100\n",
      "997/997 [==============================] - 0s 47us/step - loss: 0.6800 - accuracy: 0.5627 - val_loss: 0.6941 - val_accuracy: 0.5045\n",
      "Epoch 98/100\n",
      "997/997 [==============================] - 0s 47us/step - loss: 0.6799 - accuracy: 0.5667 - val_loss: 0.6942 - val_accuracy: 0.5045\n",
      "Epoch 99/100\n",
      "997/997 [==============================] - 0s 46us/step - loss: 0.6797 - accuracy: 0.5727 - val_loss: 0.6942 - val_accuracy: 0.5045\n",
      "Epoch 100/100\n",
      "997/997 [==============================] - 0s 53us/step - loss: 0.6796 - accuracy: 0.5647 - val_loss: 0.6941 - val_accuracy: 0.5045\n"
     ]
    }
   ],
   "source": [
    "# train the model while storing all loss values\n",
    "history=classifier.fit(X_train, y_train, batch_size = 20, epochs = 100, validation_split=0.1)"
   ]
  },
  {
   "cell_type": "code",
   "execution_count": 10,
   "metadata": {},
   "outputs": [
    {
     "data": {
      "text/plain": [
       "<matplotlib.legend.Legend at 0x13f158320>"
      ]
     },
     "execution_count": 10,
     "metadata": {},
     "output_type": "execute_result"
    },
    {
     "data": {
      "image/png": "[encoded data removed]",
      "text/plain": [
       "<Figure size 720x576 with 1 Axes>"
      ]
     },
     "metadata": {
      "needs_background": "light"
     },
     "output_type": "display_data"
    }
   ],
   "source": [
    "# plot training error and test error plots \n",
    "matplotlib.rcParams['figure.figsize'] = (10.0, 8.0)\n",
    "plt.plot(history.history['loss'])\n",
    "plt.plot(history.history['val_loss'])\n",
    "plt.ylabel('loss')\n",
    "plt.xlabel('epoch')\n",
    "plt.legend(['train loss', 'validation loss'], loc='upper right')"
   ]
  },
  {
   "cell_type": "code",
   "execution_count": 11,
   "metadata": {},
   "outputs": [
    {
     "name": "stdout",
     "output_type": "stream",
     "text": [
      "Best Accuracy on training set = 57.272%\n",
      "Best Accuracy on test set = 54.054%\n",
      "277/277 [==============================] - 0s 22us/step\n",
      "The loss on the test set is 0.7016 and the accuracy is 49.819%\n"
     ]
    }
   ],
   "source": [
    "# print the best accuracy reached on training set and the test set\n",
    "print(f\"Best Accuracy on training set = {max(history.history['accuracy'])*100:.3f}%\")\n",
    "print(f\"Best Accuracy on test set = {max(history.history['val_accuracy'])*100:.3f}%\")\n",
    "\n",
    "test_loss, test_acc = classifier.evaluate(X_test, y_test['AdvancedFibrosis'])\n",
    "print(f'The loss on the test set is {test_loss:.4f} and the accuracy is {test_acc*100:.3f}%')"
   ]
  }
 ],
 "metadata": {
  "kernelspec": {
   "display_name": "py3.7",
   "language": "python",
   "name": "py3.7"
  },
  "language_info": {
   "codemirror_mode": {
    "name": "ipython",
    "version": 3
   },
   "file_extension": ".py",
   "mimetype": "text/x-python",
   "name": "python",
   "nbconvert_exporter": "python",
   "pygments_lexer": "ipython3",
   "version": "3.7.2"
  }
 },
 "nbformat": 4,
 "nbformat_minor": 2
}
