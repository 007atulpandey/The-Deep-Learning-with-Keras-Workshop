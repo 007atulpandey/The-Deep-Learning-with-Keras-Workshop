{
 "cells": [
  {
   "cell_type": "code",
   "execution_count": 1,
   "metadata": {},
   "outputs": [
    {
     "name": "stderr",
     "output_type": "stream",
     "text": [
      "Using TensorFlow backend.\n"
     ]
    }
   ],
   "source": [
    "# import the required packages\n",
    "from keras.models import Sequential\n",
    "from keras.layers import Dense\n",
    "from keras.wrappers.scikit_learn import KerasRegressor\n",
    "from sklearn.model_selection import KFold, cross_val_score\n",
    "from sklearn.preprocessing import StandardScaler\n",
    "from sklearn.pipeline import make_pipeline\n",
    "import numpy as np\n",
    "import pandas as pd"
   ]
  },
  {
   "cell_type": "code",
   "execution_count": 2,
   "metadata": {},
   "outputs": [
    {
     "name": "stdout",
     "output_type": "stream",
     "text": [
      "Input data size =  (10000, 10)\n",
      "Output size =  (10000, 1)\n",
      "Output Range = (0.000000, 584.000000)\n"
     ]
    }
   ],
   "source": [
    "# Load the dataset\n",
    "X = pd.read_csv('data/traffic_volume_feats.csv')\n",
    "y = pd.read_csv('data/traffic_volume_target.csv')\n",
    "\n",
    "# Print the sizes of input data and output data\n",
    "print(\"Input data size = \", X.shape)\n",
    "print(\"Output size = \", y.shape)\n",
    "# Print the range for output\n",
    "print(f\"Output Range = ({y['Volume'].min()}, { y['Volume'].max()})\")"
   ]
  },
  {
   "cell_type": "code",
   "execution_count": 3,
   "metadata": {
    "collapsed": true
   },
   "outputs": [],
   "source": [
    "# Create the function that returns the keras model 1\n",
    "def build_model_1(optimizer='adam'):\n",
    "    # create model 1\n",
    "    model = Sequential()\n",
    "    model.add(Dense(10, input_dim=X.shape[1], activation='relu'))\n",
    "    model.add(Dense(1))\n",
    "    # Compile model\n",
    "    model.compile(loss='mean_squared_error', optimizer=optimizer)\n",
    "    return model\n",
    "\n",
    "\n",
    "# Create the function that returns the keras model 2\n",
    "def build_model_2(optimizer='adam'):\n",
    "    # create model 2\n",
    "    model = Sequential()\n",
    "    model.add(Dense(10, input_dim=X.shape[1], activation='relu'))\n",
    "    model.add(Dense(10, activation='relu'))\n",
    "    model.add(Dense(1))\n",
    "    # Compile model\n",
    "    model.compile(loss='mean_squared_error', optimizer=optimizer)\n",
    "    return model\n",
    "\n",
    "# Create the function that returns the keras model 3\n",
    "def build_model_3(optimizer='adam'):\n",
    "    # create model 3\n",
    "    model = Sequential()\n",
    "    model.add(Dense(10, input_dim=X.shape[1], activation='relu'))\n",
    "    model.add(Dense(10, activation='relu'))\n",
    "    model.add(Dense(10, activation='relu'))\n",
    "    model.add(Dense(1))\n",
    "    # Compile model\n",
    "    model.compile(loss='mean_squared_error', optimizer=optimizer)\n",
    "    return model"
   ]
  },
  {
   "cell_type": "code",
   "execution_count": 4,
   "metadata": {},
   "outputs": [],
   "source": [
    "# define a seed for random number generator so the result will be reproducible\n",
    "seed = 1\n",
    "np.random.seed(seed)\n",
    "# determine the number of folds for k-fold cross validation\n",
    "n_folds = 5\n",
    "# define the list to store cross validation scores\n",
    "results =[]\n",
    "# define the possible options for the model\n",
    "models = [build_model_1, build_model_2, build_model_3]\n",
    "# loop over models\n",
    "for i in range(len(models)):\n",
    "    # build the Scikit-Learn interface for the keras model\n",
    "    regressor = KerasRegressor(build_fn=models[i], epochs=100, batch_size=50, verbose=0)\n",
    "    # build the pipeline of transformations so for each fold trainind set will be scaled \n",
    "    # and test set will be scaled accordingly.\n",
    "    model = make_pipeline(StandardScaler(), regressor)\n",
    "    # define the cross validation iterator\n",
    "    kfold = KFold(n_splits=n_folds, shuffle=True, random_state=seed)\n",
    "    # perform the k-fold cross validation. \n",
    "    # store the scores in result\n",
    "    result = cross_val_score(model, X, y, cv=kfold)\n",
    "    # add the scores to the results list \n",
    "    results.append(result)"
   ]
  },
  {
   "cell_type": "code",
   "execution_count": 5,
   "metadata": {},
   "outputs": [
    {
     "name": "stdout",
     "output_type": "stream",
     "text": [
      "Model  1  test error rate =  25.384291048049924\n",
      "Model  2  test error rate =  25.217141685485842\n",
      "Model  3  test error rate =  25.38113227844238\n"
     ]
    }
   ],
   "source": [
    "# Print cross validation score for each model\n",
    "for i in range(len(models)):\n",
    "    print(\"Model \", i+1,\" test error rate = \", abs(results[i].mean()))"
   ]
  },
  {
   "cell_type": "code",
   "execution_count": 6,
   "metadata": {
    "collapsed": true
   },
   "outputs": [],
   "source": [
    "# define a seed for random number generator so the result will be reproducible\n",
    "np.random.seed(seed)\n",
    "# determine the number of folds for k-fold cross validation\n",
    "n_folds = 5\n",
    "# define the list to store cross validation scores\n",
    "results =[]\n",
    "# define possible options for epochs and batch_size\n",
    "epochs = [80, 100]\n",
    "batches = [50, 25]\n",
    "# loop over all possible pairs of epochs, batch_size\n",
    "for i in range(len(epochs)):\n",
    "    for j in range(len(batches)):\n",
    "        # build the Scikit-Learn interface for the keras model\n",
    "        regressor = KerasRegressor(build_fn=build_model_2, epochs=epochs[i], batch_size=batches[j], verbose=0)\n",
    "        # build the pipeline of transformations so for each fold trainind set will be scaled \n",
    "        # and test set will be scaled accordingly.\n",
    "        model = make_pipeline(StandardScaler(), regressor)\n",
    "        # define the cross validation iterator\n",
    "        kfold = KFold(n_splits=n_folds, shuffle=True, random_state=seed)\n",
    "        # perform the k-fold cross validation. \n",
    "        # store the scores in result\n",
    "        result = cross_val_score(model, X, y, cv=kfold)\n",
    "        # add the scores to the results list \n",
    "        results.append(result)"
   ]
  },
  {
   "cell_type": "code",
   "execution_count": 7,
   "metadata": {},
   "outputs": [
    {
     "name": "stdout",
     "output_type": "stream",
     "text": [
      "batch_size =  50 , epochs =  80 , Test error rate =  25.273476047515867\n",
      "batch_size =  25 , epochs =  80 , Test error rate =  25.308155863285062\n",
      "batch_size =  50 , epochs =  100 , Test error rate =  25.082583103179935\n",
      "batch_size =  25 , epochs =  100 , Test error rate =  25.255000259876248\n"
     ]
    }
   ],
   "source": [
    "# Print cross validation score for each possible pair of epochs, batch_size\n",
    "c = 0\n",
    "for i in range(len(epochs)):\n",
    "    for j in range(len(batches)):\n",
    "        print(\"batch_size = \", batches[j],\", epochs = \", epochs[i], \", Test error rate = \", abs(results[c].mean()))\n",
    "        c += 1"
   ]
  },
  {
   "cell_type": "code",
   "execution_count": 8,
   "metadata": {
    "collapsed": true
   },
   "outputs": [],
   "source": [
    "# define a seed for random number generator so the result will be reproducible\n",
    "np.random.seed(seed)\n",
    "# determine the number of folds for k-fold cross validation\n",
    "n_folds = 5\n",
    "# define the list to store cross validation scores\n",
    "results =[]\n",
    "# define the possible options for the optimizer\n",
    "optimizers = ['adam', 'sgd', 'rmsprop']\n",
    "# loop over optimizers\n",
    "for i in range(len(optimizers)):\n",
    "    optimizer=optimizers[i]\n",
    "    # build the Scikit-Learn interface for the keras model\n",
    "    regressor = KerasRegressor(build_fn=build_model_2, epochs=100, batch_size=50, verbose=0)\n",
    "    # build the pipeline of transformations so for each fold trainind set will be scaled \n",
    "    # and test set will be scaled accordingly.\n",
    "    model = make_pipeline(StandardScaler(), regressor)\n",
    "    # define the cross validation iterator\n",
    "    kfold = KFold(n_splits=n_folds, shuffle=True, random_state=seed)\n",
    "    # perform the k-fold cross validation. \n",
    "    # store the scores in result\n",
    "    result = cross_val_score(model, X, y, cv=kfold)\n",
    "    # add the scores to the results list \n",
    "    results.append(result)"
   ]
  },
  {
   "cell_type": "code",
   "execution_count": 9,
   "metadata": {},
   "outputs": [
    {
     "name": "stdout",
     "output_type": "stream",
     "text": [
      "optimizer= adam  test error rate =  25.229352216720578\n",
      "optimizer= sgd  test error rate =  25.175298171043394\n",
      "optimizer= rmsprop  test error rate =  25.208842034339902\n"
     ]
    }
   ],
   "source": [
    "# Print cross validation score for each optimizer\n",
    "for i in range(len(optimizers)):\n",
    "    print(\"optimizer=\", optimizers[i],\" test error rate = \", abs(results[i].mean()))"
   ]
  }
 ],
 "metadata": {
  "kernelspec": {
   "display_name": "py3.7",
   "language": "python",
   "name": "py3.7"
  },
  "language_info": {
   "codemirror_mode": {
    "name": "ipython",
    "version": 3
   },
   "file_extension": ".py",
   "mimetype": "text/x-python",
   "name": "python",
   "nbconvert_exporter": "python",
   "pygments_lexer": "ipython3",
   "version": "3.7.2"
  }
 },
 "nbformat": 4,
 "nbformat_minor": 2
}
