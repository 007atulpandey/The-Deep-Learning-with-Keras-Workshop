{
 "cells": [
  {
   "cell_type": "code",
   "execution_count": 1,
   "metadata": {
    "collapsed": true
   },
   "outputs": [],
   "source": [
    "# Load The dataset\n",
    "import pandas as pd\n",
    "X = pd.read_csv('../data/avila-tr_feats.csv')\n",
    "y = pd.read_csv('../data/avila-tr_target.csv')"
   ]
  },
  {
   "cell_type": "code",
   "execution_count": 2,
   "metadata": {},
   "outputs": [
    {
     "name": "stderr",
     "output_type": "stream",
     "text": [
      "Using TensorFlow backend.\n"
     ]
    }
   ],
   "source": [
    "# Create the function that returns the keras model\n",
    "from keras.models import Sequential\n",
    "from keras.layers import Dense\n",
    "from keras.regularizers import l2\n",
    "def build_model(lambda_parameter):\n",
    "    model = Sequential()\n",
    "    model.add(Dense(10, input_dim=X.shape[1], activation='relu', kernel_regularizer=l2(lambda_parameter)))\n",
    "    model.add(Dense(6, activation='relu', kernel_regularizer=l2(lambda_parameter)))\n",
    "    model.add(Dense(4, activation='relu', kernel_regularizer=l2(lambda_parameter)))\n",
    "    model.add(Dense(1, activation='sigmoid'))\n",
    "    model.compile(loss='binary_crossentropy', optimizer='sgd', metrics=['accuracy'])\n",
    "    return model"
   ]
  },
  {
   "cell_type": "code",
   "execution_count": 3,
   "metadata": {},
   "outputs": [],
   "source": [
    "from keras.wrappers.scikit_learn import KerasClassifier\n",
    "from sklearn.model_selection import GridSearchCV\n",
    "# define a seed for random number generator so the result will be reproducible\n",
    "import numpy as np\n",
    "from tensorflow import random\n",
    "\n",
    "seed = 1\n",
    "np.random.seed(seed)\n",
    "random.set_sed(seed)\n",
    "# create the Keras wrapper with scikit learn\n",
    "model = KerasClassifier(build_fn=build_model, verbose=0)\n",
    "# define all the possible values for each hyperparameter\n",
    "lambda_parameter = [0.01, 0.5, 1]\n",
    "epochs = [50, 100]\n",
    "batch_size = [20]\n",
    "# create the dictionary containing all possible values of hyperparameters\n",
    "param_grid = dict(lambda_parameter=lambda_parameter, epochs=epochs, batch_size=batch_size)\n",
    "# perform 5-fold cross validation for ??????? store the results\n",
    "grid_seach = GridSearchCV(estimator=model, param_grid=param_grid, cv=5)\n",
    "results_1 = grid_seach.fit(X, y)"
   ]
  },
  {
   "cell_type": "code",
   "execution_count": 4,
   "metadata": {
    "scrolled": true
   },
   "outputs": [
    {
     "name": "stdout",
     "output_type": "stream",
     "text": [
      "Best cross validation score = 0.7673058390617371\n",
      "Parameters for Best cross validation scor e= {'batch_size': 20, 'epochs': 100, 'lambda_parameter': 0.01}\n",
      "Accuracy 0.764621 (std 0.004330) for params {'batch_size': 20, 'epochs': 50, 'lambda_parameter': 0.01}\n",
      "Accuracy 0.589070 (std 0.008244) for params {'batch_size': 20, 'epochs': 50, 'lambda_parameter': 0.5}\n",
      "Accuracy 0.589070 (std 0.008244) for params {'batch_size': 20, 'epochs': 50, 'lambda_parameter': 1}\n",
      "Accuracy 0.767306 (std 0.015872) for params {'batch_size': 20, 'epochs': 100, 'lambda_parameter': 0.01}\n",
      "Accuracy 0.589070 (std 0.008244) for params {'batch_size': 20, 'epochs': 100, 'lambda_parameter': 0.5}\n",
      "Accuracy 0.589070 (std 0.008244) for params {'batch_size': 20, 'epochs': 100, 'lambda_parameter': 1}\n"
     ]
    }
   ],
   "source": [
    "# print the results for best cross validation score\n",
    "print(\"Best cross validation score =\", results_1.best_score_)\n",
    "print(\"Parameters for Best cross validation scor e=\", results_1.best_params_)\n",
    "\n",
    "# print the results for all evaluated hyperparameter combinations\n",
    "accuracy_means = results_1.cv_results_['mean_test_score']\n",
    "accuracy_stds = results_1.cv_results_['std_test_score']\n",
    "parameters = results_1.cv_results_['params']\n",
    "for p in range(len(parameters)):\n",
    "    print(\"Accuracy %f (std %f) for params %r\" % (accuracy_means[p], accuracy_stds[p], parameters[p]))"
   ]
  },
  {
   "cell_type": "code",
   "execution_count": 5,
   "metadata": {},
   "outputs": [],
   "source": [
    "# define a seed for random number generator so the result will be reproducible\n",
    "np.random.seed(seed)\n",
    "random.set_sed(seed)\n",
    "\n",
    "# create the Keras wrapper with scikit learn\n",
    "model = KerasClassifier(build_fn=build_model, verbose=0)\n",
    "# define all the possible values for each hyperparameter\n",
    "lambda_parameter = [0.001, 0.01, 0.05, 0.1]\n",
    "epochs = [100]\n",
    "batch_size = [20]\n",
    "# create the dictionary containing all possible values of hyperparameters\n",
    "param_grid = dict(lambda_parameter=lambda_parameter, epochs=epochs, batch_size=batch_size)\n",
    "# search the grid, perform 5-fold cross validation for each possible combination, store the results\n",
    "grid_seach = GridSearchCV(estimator=model, param_grid=param_grid, cv=5)\n",
    "results_2 = grid_seach.fit(X, y)"
   ]
  },
  {
   "cell_type": "code",
   "execution_count": 6,
   "metadata": {},
   "outputs": [
    {
     "name": "stdout",
     "output_type": "stream",
     "text": [
      "Best cross validation score = 0.786385428905487\n",
      "Parameters for Best cross validation score = {'batch_size': 20, 'epochs': 100, 'lambda_parameter': 0.001}\n",
      "Accuracy 0.786385 (std 0.010177) for params {'batch_size': 20, 'epochs': 100, 'lambda_parameter': 0.001}\n",
      "Accuracy 0.693960 (std 0.084994) for params {'batch_size': 20, 'epochs': 100, 'lambda_parameter': 0.01}\n",
      "Accuracy 0.589070 (std 0.008244) for params {'batch_size': 20, 'epochs': 100, 'lambda_parameter': 0.05}\n",
      "Accuracy 0.589070 (std 0.008244) for params {'batch_size': 20, 'epochs': 100, 'lambda_parameter': 0.1}\n"
     ]
    }
   ],
   "source": [
    "# print the results for best cross validation score\n",
    "print(\"Best cross validation score =\", results_2.best_score_)\n",
    "print(\"Parameters for Best cross validation score =\", results_2.best_params_)\n",
    "\n",
    "# print the results for the entire grid\n",
    "accuracy_means = results_2.cv_results_['mean_test_score']\n",
    "accuracy_stds = results_2.cv_results_['std_test_score']\n",
    "parameters = results_2.cv_results_['params']\n",
    "for p in range(len(parameters)):\n",
    "    print(\"Accuracy %f (std %f) for params %r\" % (accuracy_means[p], accuracy_stds[p], parameters[p]))"
   ]
  },
  {
   "cell_type": "code",
   "execution_count": 7,
   "metadata": {
    "collapsed": true
   },
   "outputs": [],
   "source": [
    "# Create the function that returns the keras model\n",
    "from keras.layers import Dropout\n",
    "def build_model(rate):\n",
    "    model = Sequential()\n",
    "    model.add(Dense(10, input_dim=X.shape[1], activation='relu'))\n",
    "    model.add(Dropout(rate))\n",
    "    model.add(Dense(6, activation='relu'))\n",
    "    model.add(Dropout(rate))\n",
    "    model.add(Dense(4, activation='relu'))\n",
    "    model.add(Dropout(rate))\n",
    "    model.add(Dense(1, activation='sigmoid'))\n",
    "    model.compile(loss='binary_crossentropy', optimizer='sgd', metrics=['accuracy'])\n",
    "    return model"
   ]
  },
  {
   "cell_type": "code",
   "execution_count": 12,
   "metadata": {},
   "outputs": [],
   "source": [
    "# define a seed for random number generator so the result will be reproducible\n",
    "np.random.seed(seed)\n",
    "random.set_sed(seed)\n",
    "\n",
    "# create the Keras wrapper with scikit learn\n",
    "model = KerasClassifier(build_fn=build_model, verbose=0)\n",
    "# define all the possible values for each hyperparameter\n",
    "rate = [0, 0.1, 0.2]\n",
    "epochs = [50, 100]\n",
    "batch_size = [20]\n",
    "# create the dictionary containing all possible values of hyperparameters\n",
    "param_grid = dict(rate=rate, epochs=epochs, batch_size=batch_size)\n",
    "# perform 5-fold cross validation for 10 randomly selected combinations, store the results\n",
    "grid_seach = GridSearchCV(estimator=model, param_grid=param_grid, cv=5)\n",
    "results_3 = grid_seach.fit(X, y)"
   ]
  },
  {
   "cell_type": "code",
   "execution_count": 13,
   "metadata": {},
   "outputs": [
    {
     "name": "stdout",
     "output_type": "stream",
     "text": [
      "Best cross validation score= 0.7918504476547241\n",
      "Parameters for Best cross validation score= {'batch_size': 20, 'epochs': 100, 'rate': 0}\n",
      "Accuracy 0.786769 (std 0.008255) for params {'batch_size': 20, 'epochs': 50, 'rate': 0}\n",
      "Accuracy 0.764717 (std 0.007691) for params {'batch_size': 20, 'epochs': 50, 'rate': 0.1}\n",
      "Accuracy 0.752637 (std 0.013546) for params {'batch_size': 20, 'epochs': 50, 'rate': 0.2}\n",
      "Accuracy 0.791850 (std 0.008519) for params {'batch_size': 20, 'epochs': 100, 'rate': 0}\n",
      "Accuracy 0.779291 (std 0.009504) for params {'batch_size': 20, 'epochs': 100, 'rate': 0.1}\n",
      "Accuracy 0.767306 (std 0.005773) for params {'batch_size': 20, 'epochs': 100, 'rate': 0.2}\n"
     ]
    }
   ],
   "source": [
    "# print the results for best cross validation score\n",
    "print(\"Best cross validation score=\", results_3.best_score_)\n",
    "print(\"Parameters for Best cross validation score=\", results_3.best_params_)\n",
    "\n",
    "# print the results for the entire grid\n",
    "accuracy_means = results_3.cv_results_['mean_test_score']\n",
    "accuracy_stds = results_3.cv_results_['std_test_score']\n",
    "parameters = results_3.cv_results_['params']\n",
    "for p in range(len(parameters)):\n",
    "    print(\"Accuracy %f (std %f) for params %r\" % (accuracy_means[p], accuracy_stds[p], parameters[p]))"
   ]
  },
  {
   "cell_type": "code",
   "execution_count": 10,
   "metadata": {
    "collapsed": true
   },
   "outputs": [],
   "source": [
    "# define a seed for random number generator so the result will be reproducible\n",
    "np.random.seed(seed)\n",
    "random.set_sed(seed)\n",
    "\n",
    "# create the Keras wrapper with scikit learn\n",
    "model = KerasClassifier(build_fn=build_model, verbose=0)\n",
    "# define all the possible values for each hyperparameter\n",
    "rate = [0.0, 0.05, 0.1]\n",
    "epochs = [100]\n",
    "batch_size = [20]\n",
    "# create the dictionary containing all possible values of hyperparameters\n",
    "param_grid = dict(rate=rate, epochs=epochs, batch_size=batch_size)\n",
    "# perform 5-fold cross validation for 10 randomly selected combinations, store the results\n",
    "grid_seach = GridSearchCV(estimator=model, param_grid=param_grid, cv=5)\n",
    "results_4 = grid_seach.fit(X, y)"
   ]
  },
  {
   "cell_type": "code",
   "execution_count": 11,
   "metadata": {},
   "outputs": [
    {
     "name": "stdout",
     "output_type": "stream",
     "text": [
      "Best cross validation score= 0.7862895488739013\n",
      "Parameters for Best cross validation score= {'batch_size': 20, 'epochs': 100, 'rate': 0.0}\n",
      "Accuracy 0.786290 (std 0.013557) for params {'batch_size': 20, 'epochs': 100, 'rate': 0.0}\n",
      "Accuracy 0.786098 (std 0.005184) for params {'batch_size': 20, 'epochs': 100, 'rate': 0.05}\n",
      "Accuracy 0.772004 (std 0.013733) for params {'batch_size': 20, 'epochs': 100, 'rate': 0.1}\n"
     ]
    }
   ],
   "source": [
    "# print the results for best cross validation score\n",
    "print(\"Best cross validation score=\", results_4.best_score_)\n",
    "print(\"Parameters for Best cross validation score=\", results_4.best_params_)\n",
    "\n",
    "# print the results for the entire grid\n",
    "accuracy_means = results_4.cv_results_['mean_test_score']\n",
    "accuracy_stds = results_4.cv_results_['std_test_score']\n",
    "parameters = results_4.cv_results_['params']\n",
    "for p in range(len(parameters)):\n",
    "    print(\"Accuracy %f (std %f) for params %r\" % (accuracy_means[p], accuracy_stds[p], parameters[p]))"
   ]
  }
 ],
 "metadata": {
  "kernelspec": {
   "display_name": "py3.7",
   "language": "python",
   "name": "py3.7"
  },
  "language_info": {
   "codemirror_mode": {
    "name": "ipython",
    "version": 3
   },
   "file_extension": ".py",
   "mimetype": "text/x-python",
   "name": "python",
   "nbconvert_exporter": "python",
   "pygments_lexer": "ipython3",
   "version": "3.7.2"
  }
 },
 "nbformat": 4,
 "nbformat_minor": 2
}
