{
 "cells": [
  {
   "cell_type": "code",
   "execution_count": 1,
   "metadata": {},
   "outputs": [],
   "source": [
    "# Load The dataset\n",
    "import pandas as pd\n",
    "X = pd.read_csv('../data/avila-tr_feats.csv')\n",
    "y = pd.read_csv('../data/avila-tr_target.csv')"
   ]
  },
  {
   "cell_type": "code",
   "execution_count": 2,
   "metadata": {},
   "outputs": [
    {
     "name": "stderr",
     "output_type": "stream",
     "text": [
      "Using TensorFlow backend.\n"
     ]
    }
   ],
   "source": [
    "# Create the function that returns the keras model\n",
    "from keras.models import Sequential\n",
    "from keras.layers import Dense\n",
    "from keras.regularizers import l2\n",
    "def build_model(lambda_parameter):\n",
    "    model = Sequential()\n",
    "    model.add(Dense(10, input_dim=X.shape[1], activation='relu', kernel_regularizer=l2(lambda_parameter)))\n",
    "    model.add(Dense(6, activation='relu', kernel_regularizer=l2(lambda_parameter)))\n",
    "    model.add(Dense(4, activation='relu', kernel_regularizer=l2(lambda_parameter)))\n",
    "    model.add(Dense(1, activation='sigmoid'))\n",
    "    model.compile(loss='binary_crossentropy', optimizer='sgd', metrics=['accuracy'])\n",
    "    return model"
   ]
  },
  {
   "cell_type": "code",
   "execution_count": 3,
   "metadata": {},
   "outputs": [],
   "source": [
    "from keras.wrappers.scikit_learn import KerasClassifier\n",
    "from sklearn.model_selection import GridSearchCV\n",
    "# define a seed for random number generator so the result will be reproducible\n",
    "import numpy as np\n",
    "from tensorflow import random\n",
    "\n",
    "seed = 1\n",
    "np.random.seed(seed)\n",
    "random.set_seed(seed)\n",
    "# create the Keras wrapper with scikit learn\n",
    "model = KerasClassifier(build_fn=build_model, verbose=0)\n",
    "# define all the possible values for each hyperparameter\n",
    "lambda_parameter = [0.01, 0.5, 1]\n",
    "epochs = [50, 100]\n",
    "batch_size = [20]\n",
    "# create the dictionary containing all possible values of hyperparameters\n",
    "param_grid = dict(lambda_parameter=lambda_parameter, epochs=epochs, batch_size=batch_size)\n",
    "# perform 5-fold cross validation for ??????? store the results\n",
    "grid_seach = GridSearchCV(estimator=model, param_grid=param_grid, cv=5)\n",
    "results_1 = grid_seach.fit(X, y)"
   ]
  },
  {
   "cell_type": "code",
   "execution_count": 4,
   "metadata": {
    "scrolled": true
   },
   "outputs": [
    {
     "name": "stdout",
     "output_type": "stream",
     "text": [
      "Best cross validation score = 0.6375838875770569\n",
      "Parameters for Best cross validation scor e= {'batch_size': 20, 'epochs': 4, 'lambda_parameter': 0.01}\n",
      "Accuracy 0.594056 (std 0.012940) for params {'batch_size': 20, 'epochs': 2, 'lambda_parameter': 0.01}\n",
      "Accuracy 0.589070 (std 0.008244) for params {'batch_size': 20, 'epochs': 2, 'lambda_parameter': 0.5}\n",
      "Accuracy 0.589070 (std 0.008244) for params {'batch_size': 20, 'epochs': 2, 'lambda_parameter': 1}\n",
      "Accuracy 0.637584 (std 0.035276) for params {'batch_size': 20, 'epochs': 4, 'lambda_parameter': 0.01}\n",
      "Accuracy 0.589070 (std 0.008244) for params {'batch_size': 20, 'epochs': 4, 'lambda_parameter': 0.5}\n",
      "Accuracy 0.589070 (std 0.008244) for params {'batch_size': 20, 'epochs': 4, 'lambda_parameter': 1}\n"
     ]
    }
   ],
   "source": [
    "# print the results for best cross validation score\n",
    "print(\"Best cross validation score =\", results_1.best_score_)\n",
    "print(\"Parameters for Best cross validation scor e=\", results_1.best_params_)\n",
    "\n",
    "# print the results for all evaluated hyperparameter combinations\n",
    "accuracy_means = results_1.cv_results_['mean_test_score']\n",
    "accuracy_stds = results_1.cv_results_['std_test_score']\n",
    "parameters = results_1.cv_results_['params']\n",
    "for p in range(len(parameters)):\n",
    "    print(\"Accuracy %f (std %f) for params %r\" % (accuracy_means[p], accuracy_stds[p], parameters[p]))"
   ]
  },
  {
   "cell_type": "code",
   "execution_count": 5,
   "metadata": {},
   "outputs": [],
   "source": [
    "# define a seed for random number generator so the result will be reproducible\n",
    "np.random.seed(seed)\n",
    "random.set_seed(seed)\n",
    "\n",
    "# create the Keras wrapper with scikit learn\n",
    "model = KerasClassifier(build_fn=build_model, verbose=0)\n",
    "# define all the possible values for each hyperparameter\n",
    "lambda_parameter = [0.001, 0.01, 0.05, 0.1]\n",
    "epochs = [100]\n",
    "batch_size = [20]\n",
    "# create the dictionary containing all possible values of hyperparameters\n",
    "param_grid = dict(lambda_parameter=lambda_parameter, epochs=epochs, batch_size=batch_size)\n",
    "# search the grid, perform 5-fold cross validation for each possible combination, store the results\n",
    "grid_seach = GridSearchCV(estimator=model, param_grid=param_grid, cv=5)\n",
    "results_2 = grid_seach.fit(X, y)"
   ]
  },
  {
   "cell_type": "code",
   "execution_count": 6,
   "metadata": {},
   "outputs": [
    {
     "name": "stdout",
     "output_type": "stream",
     "text": [
      "Best cross validation score = 0.6701821565628052\n",
      "Parameters for Best cross validation score = {'batch_size': 20, 'epochs': 4, 'lambda_parameter': 0.001}\n",
      "Accuracy 0.670182 (std 0.043208) for params {'batch_size': 20, 'epochs': 4, 'lambda_parameter': 0.001}\n",
      "Accuracy 0.626366 (std 0.049818) for params {'batch_size': 20, 'epochs': 4, 'lambda_parameter': 0.01}\n",
      "Accuracy 0.589070 (std 0.008244) for params {'batch_size': 20, 'epochs': 4, 'lambda_parameter': 0.05}\n",
      "Accuracy 0.589070 (std 0.008244) for params {'batch_size': 20, 'epochs': 4, 'lambda_parameter': 0.1}\n"
     ]
    }
   ],
   "source": [
    "# print the results for best cross validation score\n",
    "print(\"Best cross validation score =\", results_2.best_score_)\n",
    "print(\"Parameters for Best cross validation score =\", results_2.best_params_)\n",
    "\n",
    "# print the results for the entire grid\n",
    "accuracy_means = results_2.cv_results_['mean_test_score']\n",
    "accuracy_stds = results_2.cv_results_['std_test_score']\n",
    "parameters = results_2.cv_results_['params']\n",
    "for p in range(len(parameters)):\n",
    "    print(\"Accuracy %f (std %f) for params %r\" % (accuracy_means[p], accuracy_stds[p], parameters[p]))"
   ]
  },
  {
   "cell_type": "code",
   "execution_count": 7,
   "metadata": {},
   "outputs": [],
   "source": [
    "# Create the function that returns the keras model\n",
    "from keras.layers import Dropout\n",
    "def build_model(rate):\n",
    "    model = Sequential()\n",
    "    model.add(Dense(10, input_dim=X.shape[1], activation='relu'))\n",
    "    model.add(Dropout(rate))\n",
    "    model.add(Dense(6, activation='relu'))\n",
    "    model.add(Dropout(rate))\n",
    "    model.add(Dense(4, activation='relu'))\n",
    "    model.add(Dropout(rate))\n",
    "    model.add(Dense(1, activation='sigmoid'))\n",
    "    model.compile(loss='binary_crossentropy', optimizer='sgd', metrics=['accuracy'])\n",
    "    return model"
   ]
  },
  {
   "cell_type": "code",
   "execution_count": 8,
   "metadata": {},
   "outputs": [],
   "source": [
    "# define a seed for random number generator so the result will be reproducible\n",
    "np.random.seed(seed)\n",
    "random.set_seed(seed)\n",
    "\n",
    "# create the Keras wrapper with scikit learn\n",
    "model = KerasClassifier(build_fn=build_model, verbose=0)\n",
    "# define all the possible values for each hyperparameter\n",
    "rate = [0, 0.1, 0.2]\n",
    "epochs = [50, 100]\n",
    "batch_size = [20]\n",
    "# create the dictionary containing all possible values of hyperparameters\n",
    "param_grid = dict(rate=rate, epochs=epochs, batch_size=batch_size)\n",
    "# perform 5-fold cross validation for 10 randomly selected combinations, store the results\n",
    "grid_seach = GridSearchCV(estimator=model, param_grid=param_grid, cv=5)\n",
    "results_3 = grid_seach.fit(X, y)"
   ]
  },
  {
   "cell_type": "code",
   "execution_count": 9,
   "metadata": {},
   "outputs": [
    {
     "name": "stdout",
     "output_type": "stream",
     "text": [
      "Best cross validation score= 0.6902205109596252\n",
      "Parameters for Best cross validation score= {'batch_size': 20, 'epochs': 4, 'rate': 0}\n",
      "Accuracy 0.596740 (std 0.019422) for params {'batch_size': 20, 'epochs': 2, 'rate': 0}\n",
      "Accuracy 0.592234 (std 0.008262) for params {'batch_size': 20, 'epochs': 2, 'rate': 0.1}\n",
      "Accuracy 0.590604 (std 0.008062) for params {'batch_size': 20, 'epochs': 2, 'rate': 0.2}\n",
      "Accuracy 0.690221 (std 0.015703) for params {'batch_size': 20, 'epochs': 4, 'rate': 0}\n",
      "Accuracy 0.612176 (std 0.016055) for params {'batch_size': 20, 'epochs': 4, 'rate': 0.1}\n",
      "Accuracy 0.593768 (std 0.010022) for params {'batch_size': 20, 'epochs': 4, 'rate': 0.2}\n"
     ]
    }
   ],
   "source": [
    "# print the results for best cross validation score\n",
    "print(\"Best cross validation score=\", results_3.best_score_)\n",
    "print(\"Parameters for Best cross validation score=\", results_3.best_params_)\n",
    "\n",
    "# print the results for the entire grid\n",
    "accuracy_means = results_3.cv_results_['mean_test_score']\n",
    "accuracy_stds = results_3.cv_results_['std_test_score']\n",
    "parameters = results_3.cv_results_['params']\n",
    "for p in range(len(parameters)):\n",
    "    print(\"Accuracy %f (std %f) for params %r\" % (accuracy_means[p], accuracy_stds[p], parameters[p]))"
   ]
  },
  {
   "cell_type": "code",
   "execution_count": 10,
   "metadata": {},
   "outputs": [],
   "source": [
    "# define a seed for random number generator so the result will be reproducible\n",
    "np.random.seed(seed)\n",
    "random.set_seed(seed)\n",
    "\n",
    "# create the Keras wrapper with scikit learn\n",
    "model = KerasClassifier(build_fn=build_model, verbose=0)\n",
    "# define all the possible values for each hyperparameter\n",
    "rate = [0.0, 0.05, 0.1]\n",
    "epochs = [100]\n",
    "batch_size = [20]\n",
    "# create the dictionary containing all possible values of hyperparameters\n",
    "param_grid = dict(rate=rate, epochs=epochs, batch_size=batch_size)\n",
    "# perform 5-fold cross validation for 10 randomly selected combinations, store the results\n",
    "grid_seach = GridSearchCV(estimator=model, param_grid=param_grid, cv=5)\n",
    "results_4 = grid_seach.fit(X, y)"
   ]
  },
  {
   "cell_type": "code",
   "execution_count": 11,
   "metadata": {},
   "outputs": [
    {
     "name": "stdout",
     "output_type": "stream",
     "text": [
      "Best cross validation score= 0.6700863003730774\n",
      "Parameters for Best cross validation score= {'batch_size': 20, 'epochs': 4, 'rate': 0.0}\n",
      "Accuracy 0.670086 (std 0.043544) for params {'batch_size': 20, 'epochs': 4, 'rate': 0.0}\n",
      "Accuracy 0.640173 (std 0.041931) for params {'batch_size': 20, 'epochs': 4, 'rate': 0.05}\n",
      "Accuracy 0.617162 (std 0.030287) for params {'batch_size': 20, 'epochs': 4, 'rate': 0.1}\n"
     ]
    }
   ],
   "source": [
    "# print the results for best cross validation score\n",
    "print(\"Best cross validation score=\", results_4.best_score_)\n",
    "print(\"Parameters for Best cross validation score=\", results_4.best_params_)\n",
    "\n",
    "# print the results for the entire grid\n",
    "accuracy_means = results_4.cv_results_['mean_test_score']\n",
    "accuracy_stds = results_4.cv_results_['std_test_score']\n",
    "parameters = results_4.cv_results_['params']\n",
    "for p in range(len(parameters)):\n",
    "    print(\"Accuracy %f (std %f) for params %r\" % (accuracy_means[p], accuracy_stds[p], parameters[p]))"
   ]
  }
 ],
 "metadata": {
  "kernelspec": {
   "display_name": "py3.7",
   "language": "python",
   "name": "py3.7"
  },
  "language_info": {
   "codemirror_mode": {
    "name": "ipython",
    "version": 3
   },
   "file_extension": ".py",
   "mimetype": "text/x-python",
   "name": "python",
   "nbconvert_exporter": "python",
   "pygments_lexer": "ipython3",
   "version": "3.7.2"
  }
 },
 "nbformat": 4,
 "nbformat_minor": 2
}
