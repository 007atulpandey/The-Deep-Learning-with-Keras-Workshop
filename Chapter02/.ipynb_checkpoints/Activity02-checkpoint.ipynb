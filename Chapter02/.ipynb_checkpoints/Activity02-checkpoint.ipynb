{
 "cells": [
  {
   "cell_type": "markdown",
   "metadata": {},
   "source": [
    "# Activity 2\n",
    "\n",
    "In this activity we are going to create a basic model using the Keras library.\n",
    "We will perform the same classification task as we did in Lesson 1. We will use the same bank dataset and attempt the predict the same variable.\n",
    "\n",
    "To recap: in the last lesson we used a logistic regression model to predict whether a client would subscribe to a given product given various attributes of each client such as their age and occupation.\n",
    "\n",
    "In this Lesson we will introduce the Keras library though let's not forget that we can and still use the libraries we used previously, such as pandas for easy loading in of data, and sklearn for any data preprocessing and model evaluation metrics.\n",
    "\n",
    "First, we can begin by loading in data. We will use the same dataset that we processed in the first Lesson."
   ]
  },
  {
   "cell_type": "code",
   "execution_count": 1,
   "metadata": {},
   "outputs": [],
   "source": [
    "import pandas as pd\n",
    "feats = pd.read_csv('data/OSI_feats_e3.csv')\n",
    "target = pd.read_csv('data/OSI_target_e2.csv')"
   ]
  },
  {
   "cell_type": "markdown",
   "metadata": {},
   "source": [
    "We can begin by creating a test set from which we use to evaluate any models we train on.\n",
    "We cxan use the `train_test_split` function that we used in the first lesson."
   ]
  },
  {
   "cell_type": "code",
   "execution_count": 2,
   "metadata": {},
   "outputs": [],
   "source": [
    "from sklearn.model_selection import train_test_split\n",
    "test_size = 0.2\n",
    "random_state = 42\n",
    "\n",
    "X_train, X_test, y_train, y_test = train_test_split(feats, target, test_size=test_size, random_state=random_state)"
   ]
  },
  {
   "cell_type": "markdown",
   "metadata": {},
   "source": [
    "A sequential model is a model that consists of a linear stack of layers.\n",
    "\n",
    "We can create our model by adding the various model components as a list argument to the model, or we could use the `add` method of the `Sequential` class to sequentially add components to the model.\n",
    "\n",
    "Let's start by initailizing a sequential model."
   ]
  },
  {
   "cell_type": "code",
   "execution_count": 3,
   "metadata": {},
   "outputs": [
    {
     "name": "stderr",
     "output_type": "stream",
     "text": [
      "Using TensorFlow backend.\n"
     ]
    }
   ],
   "source": [
    "from keras.models import Sequential\n",
    "model = Sequential()"
   ]
  },
  {
   "cell_type": "markdown",
   "metadata": {},
   "source": [
    "For each layer of the model, we need to specify the dimensions that each layer expects.\n",
    "We will start with a dense layer, which is a fully-connected layer. The result of the dense layer is the dot product of the input and the weights of the layer.\n",
    "\n",
    "If an activation argument is passed to the `Dense` function, an activation function is applied to the result of the dot product.\n",
    "\n",
    "Our input shape dimension represents the number of nodes in the layer, here this corresponds to our expected output, for binary classification is one."
   ]
  },
  {
   "cell_type": "code",
   "execution_count": 4,
   "metadata": {},
   "outputs": [],
   "source": [
    "from keras.layers import Dense\n",
    "model.add(Dense(1, input_dim=X_train.shape[1]))"
   ]
  },
  {
   "cell_type": "markdown",
   "metadata": {},
   "source": [
    "A logistic regression model is the dot product of a weight matrix and an input matrix followed by the logistic, or sigmoid activation function.\n",
    "\n",
    "We already have the dot product compoenet of the logistic regression model. To complete the model we have to add the sigmoid activation function. This could have been achieved directly in the `Dense` function, but can also be added afterwards.\n",
    "\n",
    "The activation compenent returns the output of the function applied on the input matrix."
   ]
  },
  {
   "cell_type": "code",
   "execution_count": 5,
   "metadata": {},
   "outputs": [],
   "source": [
    "from keras.layers import Activation\n",
    "model.add(Activation('sigmoid'))"
   ]
  },
  {
   "cell_type": "markdown",
   "metadata": {},
   "source": [
    "Before a model is trained the model the learning process needs to be configured. This includes which optimiser to use and which loss function to minimize in the learning process. \n",
    "\n",
    "To configure the learning process we have to use the `compile` method for the model."
   ]
  },
  {
   "cell_type": "code",
   "execution_count": 6,
   "metadata": {},
   "outputs": [],
   "source": [
    "model.compile(optimizer='adam', loss='binary_crossentropy', metrics=['accuracy'])"
   ]
  },
  {
   "cell_type": "markdown",
   "metadata": {},
   "source": [
    "We can print a summary of the model."
   ]
  },
  {
   "cell_type": "code",
   "execution_count": 7,
   "metadata": {},
   "outputs": [
    {
     "name": "stdout",
     "output_type": "stream",
     "text": [
      "Model: \"sequential_1\"\n",
      "_________________________________________________________________\n",
      "Layer (type)                 Output Shape              Param #   \n",
      "=================================================================\n",
      "dense_1 (Dense)              (None, 1)                 69        \n",
      "_________________________________________________________________\n",
      "activation_1 (Activation)    (None, 1)                 0         \n",
      "=================================================================\n",
      "Total params: 69\n",
      "Trainable params: 69\n",
      "Non-trainable params: 0\n",
      "_________________________________________________________________\n",
      "None\n"
     ]
    }
   ],
   "source": [
    "print(model.summary())"
   ]
  },
  {
   "cell_type": "markdown",
   "metadata": {},
   "source": [
    "We can see the two components of the model that we have added, the dense layer and the sigmoid activation function. We can also see the output dimensions for each component. The output for the dense layer is `(None, 1)`, the first value is `None` because it can take any value and depends on the size of the training data or if the training data is batched then the batch size. For example if there are 4000 observations in the training data, the output shape would be (4000, 1), but since we haven't fed any data into the model the `None` placeholder is used.\n",
    "\n",
    "Next, we can fit the model to the training data. Here we can define the number of epochs we want to train for, as well as the proportion we wish to use for validation to evaluate after every epoch."
   ]
  },
  {
   "cell_type": "code",
   "execution_count": 8,
   "metadata": {},
   "outputs": [
    {
     "name": "stdout",
     "output_type": "stream",
     "text": [
      "Train on 7891 samples, validate on 1973 samples\n",
      "Epoch 1/10\n",
      "7891/7891 [==============================] - 0s 49us/step - loss: 3.4358 - accuracy: 0.7656 - val_loss: 0.9237 - val_accuracy: 0.8702\n",
      "Epoch 2/10\n",
      "7891/7891 [==============================] - 0s 34us/step - loss: 0.8518 - accuracy: 0.8446 - val_loss: 0.7980 - val_accuracy: 0.8920\n",
      "Epoch 3/10\n",
      "7891/7891 [==============================] - 0s 36us/step - loss: 0.5456 - accuracy: 0.8680 - val_loss: 0.5081 - val_accuracy: 0.8890\n",
      "Epoch 4/10\n",
      "7891/7891 [==============================] - 0s 37us/step - loss: 0.4471 - accuracy: 0.8761 - val_loss: 0.3054 - val_accuracy: 0.8946\n",
      "Epoch 5/10\n",
      "7891/7891 [==============================] - 0s 34us/step - loss: 0.3870 - accuracy: 0.8808 - val_loss: 0.3196 - val_accuracy: 0.8844\n",
      "Epoch 6/10\n",
      "7891/7891 [==============================] - 0s 40us/step - loss: 0.3938 - accuracy: 0.8764 - val_loss: 0.3646 - val_accuracy: 0.8819\n",
      "Epoch 7/10\n",
      "7891/7891 [==============================] - 0s 35us/step - loss: 0.3527 - accuracy: 0.8832 - val_loss: 0.3138 - val_accuracy: 0.8855\n",
      "Epoch 8/10\n",
      "7891/7891 [==============================] - 0s 36us/step - loss: 0.3350 - accuracy: 0.8813 - val_loss: 0.3891 - val_accuracy: 0.8789\n",
      "Epoch 9/10\n",
      "7891/7891 [==============================] - 0s 38us/step - loss: 0.3477 - accuracy: 0.8799 - val_loss: 0.3302 - val_accuracy: 0.8814\n",
      "Epoch 10/10\n",
      "7891/7891 [==============================] - 0s 34us/step - loss: 0.3640 - accuracy: 0.8816 - val_loss: 0.3136 - val_accuracy: 0.8839\n"
     ]
    }
   ],
   "source": [
    "history = model.fit(X_train, y_train['Revenue'], epochs=10, validation_split=0.2)"
   ]
  },
  {
   "cell_type": "markdown",
   "metadata": {},
   "source": [
    "### Plotting error with epoch"
   ]
  },
  {
   "cell_type": "code",
   "execution_count": 10,
   "metadata": {},
   "outputs": [
    {
     "data": {
      "image/png": "[encoded data removed]",
      "text/plain": [
       "<Figure size 432x288 with 1 Axes>"
      ]
     },
     "metadata": {
      "needs_background": "light"
     },
     "output_type": "display_data"
    },
    {
     "data": {
      "image/png": "[encoded data removed]",
      "text/plain": [
       "<Figure size 432x288 with 1 Axes>"
      ]
     },
     "metadata": {
      "needs_background": "light"
     },
     "output_type": "display_data"
    }
   ],
   "source": [
    "import matplotlib.pyplot as plt\n",
    "%matplotlib inline\n",
    "\n",
    "# Plot training & validation accuracy values\n",
    "plt.plot(history.history['accuracy'])\n",
    "plt.plot(history.history['val_accuracy'])\n",
    "plt.title('Model accuracy')\n",
    "plt.ylabel('Accuracy')\n",
    "plt.xlabel('Epoch')\n",
    "plt.legend(['Train', 'Validation'], loc='upper left')\n",
    "plt.show()\n",
    "\n",
    "# Plot training & validation loss values\n",
    "plt.plot(history.history['loss'])\n",
    "plt.plot(history.history['val_loss'])\n",
    "plt.title('Model loss')\n",
    "plt.ylabel('Loss')\n",
    "plt.xlabel('Epoch')\n",
    "plt.legend(['Train', 'Validation'], loc='upper left')\n",
    "plt.show()"
   ]
  },
  {
   "cell_type": "markdown",
   "metadata": {},
   "source": [
    "We can see that the accuracy increases with every epoch, and the loss decreases with every epoch, and begins to converges.\n",
    "\n",
    "We can also see that the validation set performs slightly better than the training set which is unexpected but not unwelcome."
   ]
  },
  {
   "cell_type": "code",
   "execution_count": 11,
   "metadata": {},
   "outputs": [
    {
     "name": "stdout",
     "output_type": "stream",
     "text": [
      "2466/2466 [==============================] - 0s 15us/step\n",
      "The loss on the test set is 0.3632 and the accuracy is 86.902%\n"
     ]
    }
   ],
   "source": [
    "test_loss, test_acc = model.evaluate(X_test, y_test['Revenue'])\n",
    "print(f'The loss on the test set is {test_loss:.4f} and the accuracy is {test_acc*100:.3f}%')"
   ]
  }
 ],
 "metadata": {
  "kernelspec": {
   "display_name": "py3.7",
   "language": "python",
   "name": "py3.7"
  },
  "language_info": {
   "codemirror_mode": {
    "name": "ipython",
    "version": 3
   },
   "file_extension": ".py",
   "mimetype": "text/x-python",
   "name": "python",
   "nbconvert_exporter": "python",
   "pygments_lexer": "ipython3",
   "version": "3.7.2"
  }
 },
 "nbformat": 4,
 "nbformat_minor": 2
}
